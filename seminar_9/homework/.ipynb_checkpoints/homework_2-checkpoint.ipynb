{
 "cells": [
  {
   "cell_type": "code",
   "execution_count": 1,
   "metadata": {
    "collapsed": true
   },
   "outputs": [],
   "source": [
    "import tensorflow as tf\n",
    "import time\n",
    "\n",
    "gpu_options = tf.GPUOptions(per_process_gpu_memory_fraction=0.33)"
   ]
  },
  {
   "cell_type": "code",
   "execution_count": 2,
   "metadata": {
    "collapsed": true
   },
   "outputs": [],
   "source": [
    "import tarfile\n",
    "import re\n",
    "import urllib.request\n",
    "import os\n",
    "import random\n",
    "\n",
    "class ImdbMovieReviews:\n",
    "    DEFAULT_URL = \\\n",
    "        'http://ai.stanford.edu/~amaas/data/sentiment/aclImdb_v1.tar.gz'\n",
    "    TOKEN_REGEX = re.compile(r'[A-Za-z]+|[!?.:,()]')\n",
    "    \n",
    "    def __init__(self):\n",
    "        self._cache_dir = './imdb'\n",
    "        self._url = 'http://ai.stanford.edu/~amaas/data/sentiment/aclImdb_v1.tar.gz'\n",
    "        \n",
    "        if not os.path.isfile(self._cache_dir):\n",
    "            print('not')\n",
    "            urllib.request.urlretrieve(self._url, self._cache_dir)\n",
    "        self.filepath = self._cache_dir\n",
    "\n",
    "    def __iter__(self):\n",
    "        with tarfile.open(self.filepath) as archive:\n",
    "            items = archive.getnames()\n",
    "            for filename in archive.getnames():\n",
    "                if filename.startswith('aclImdb/train/pos/'):\n",
    "                    yield self._read(archive, filename), True\n",
    "                elif filename.startswith('aclImdb/train/neg/'):\n",
    "                    yield self._read(archive, filename), False\n",
    "                    \n",
    "    def _read(self, archive, filename):\n",
    "        with archive.extractfile(filename) as file_:\n",
    "            data = file_.read().decode('utf-8')\n",
    "            data = type(self).TOKEN_REGEX.findall(data)\n",
    "            data = [x.lower() for x in data]\n",
    "            return data"
   ]
  },
  {
   "cell_type": "code",
   "execution_count": 3,
   "metadata": {
    "collapsed": true
   },
   "outputs": [],
   "source": [
    "import numpy as np\n",
    "# Spacy is my favourite nlp framework, which havu builtin word embeddings trains on wikipesia\n",
    "from spacy.en import English\n",
    "\n",
    "class Embedding:\n",
    "    \n",
    "    def __init__(self):\n",
    "#          spaCy makes using word vectors very easy. \n",
    "#             The Lexeme , Token , Span  and Doc  classes all have a .vector property,\n",
    "#             which is a 1-dimensional numpy array of 32-bit floats:\n",
    "        self.parser = English()\n",
    "#         self._length = length\n",
    "        self.dimensions = 300\n",
    "        \n",
    "    def __call__(self, sequence, length):\n",
    "        # DO I really need them to be equal length?\n",
    "        # Let's assume I'm not\n",
    "        data = np.zeros((length, self.dimensions))\n",
    "        # you can access known words from the parser's vocabulary\n",
    "        embedded = [self.parser.vocab[w].vector for w in sequence]\n",
    "        data[:len(sequence)] = embedded\n",
    "        return data"
   ]
  },
  {
   "cell_type": "code",
   "execution_count": 4,
   "metadata": {
    "collapsed": true
   },
   "outputs": [],
   "source": [
    "import itertools\n",
    "\n",
    "def preprocess_batched_split(iterator, embedding, batch_size):\n",
    "    iterator = iter(iterator)\n",
    "    while True:\n",
    "        batch = []\n",
    "        labelss = []\n",
    "        sentence_sizes_batch = []\n",
    "        for index in range(batch_size):\n",
    "            text, label = next(iterator)\n",
    "            sents = [list(y) for x, y in itertools.groupby(text, lambda z: z == '.') if not x]\n",
    "            sentence_sizes = [len(s) for s in sents]\n",
    "            text_embed = [embedding(sent) for sent in sents]\n",
    "            \n",
    "            batch.append(text_embed)\n",
    "            labelss.append(label)\n",
    "            sentence_sizes_batch.append(sentence_sizes)\n",
    "            \n",
    "        labels_batch = np.array(labelss, dtype=np.int32)\n",
    "        sent_per_doc = np.array([len(x) for x in sentence_sizes_batch])\n",
    "        words_per_sent_per_doc = np.array(sentence_sizes_batch)\n",
    "        yield np.array(batch), labels_batch, words_per_sent_per_doc, sent_per_doc"
   ]
  },
  {
   "cell_type": "code",
   "execution_count": 5,
   "metadata": {
    "collapsed": true
   },
   "outputs": [],
   "source": [
    "import itertools\n",
    "\n",
    "def preprocess_batched_split2(iterator, embedding, batch_size):\n",
    "    iterator = iter(iterator)\n",
    "    while True:\n",
    "        batch, labels_b = zip(*itertools.islice(iterator, batch_size))\n",
    "        \n",
    "        sents_b = [[list(y) for x, y in itertools.groupby(doc, lambda z: z == '.') if not x] for doc in batch]\n",
    "\n",
    "        sentence_sizes_b = [[len(sent) for sent in doc] for doc in sents_b]\n",
    "        sentence_size = max(map(max, sentence_sizes_b))\n",
    "        \n",
    "        document_sizes = np.array([len(doc) for doc in sentence_sizes_b], dtype=np.int32)\n",
    "        document_size = document_sizes.max()\n",
    "\n",
    "        sentence_sizes_np = np.zeros(shape=[batch_size, document_size], dtype=np.int32)\n",
    "        for bi, ds, ss in zip(range(sentence_sizes_np.shape[0]), document_sizes, sentence_sizes_b):\n",
    "            sentence_sizes_np[bi][:ds] = ss\n",
    "        \n",
    "        text_embed_b = np.zeros((batch_size, document_size, sentence_size, 300))\n",
    "        for i, ds, doc_sents in zip(range(text_embed_b.shape[0]), document_sizes, sents_b):\n",
    "            doc_sents_embed = np.array([embedding(sent, sentence_size) for sent in doc_sents])\n",
    "            text_embed_b[i][:ds] = doc_sents_embed\n",
    "        \n",
    "        yield text_embed_b, np.array(labels_b, dtype=np.int32), np.array(document_sizes), sentence_sizes_np, sents_b"
   ]
  },
  {
   "cell_type": "code",
   "execution_count": 6,
   "metadata": {
    "collapsed": true
   },
   "outputs": [],
   "source": [
    "reviews = list(ImdbMovieReviews())"
   ]
  },
  {
   "cell_type": "code",
   "execution_count": 7,
   "metadata": {
    "collapsed": true
   },
   "outputs": [],
   "source": [
    "random.shuffle(reviews)"
   ]
  },
  {
   "cell_type": "code",
   "execution_count": 8,
   "metadata": {
    "collapsed": true
   },
   "outputs": [],
   "source": [
    "#################################################"
   ]
  },
  {
   "cell_type": "code",
   "execution_count": 9,
   "metadata": {
    "collapsed": true
   },
   "outputs": [],
   "source": [
    "import HanSequenceLabellingModel\n",
    "import model_components"
   ]
  },
  {
   "cell_type": "code",
   "execution_count": 10,
   "metadata": {
    "collapsed": true
   },
   "outputs": [],
   "source": [
    "%reload_ext autoreload"
   ]
  },
  {
   "cell_type": "code",
   "execution_count": 11,
   "metadata": {},
   "outputs": [
    {
     "name": "stdout",
     "output_type": "stream",
     "text": [
      "The autoreload extension is already loaded. To reload it, use:\n",
      "  %reload_ext autoreload\n",
      "Modules to reload:\n",
      "\n",
      "\n",
      "Modules to skip:\n",
      "\n"
     ]
    }
   ],
   "source": [
    "%load_ext autoreload\n",
    "%autoreload 1\n",
    "#%aimport HanSequenceLabellingModel, model_components\n",
    "%aimport"
   ]
  },
  {
   "cell_type": "code",
   "execution_count": 12,
   "metadata": {
    "collapsed": true
   },
   "outputs": [],
   "source": [
    "batches_split = preprocess_batched_split2(reviews, Embedding(), batch_size=10)"
   ]
  },
  {
   "cell_type": "code",
   "execution_count": 13,
   "metadata": {
    "collapsed": true
   },
   "outputs": [],
   "source": [
    "from HanSequenceLabellingModel import HanSequenceLabellingModel"
   ]
  },
  {
   "cell_type": "code",
   "execution_count": 14,
   "metadata": {
    "collapsed": true
   },
   "outputs": [],
   "source": [
    "def HAN_model_1(session, restore_only=False):\n",
    "    \"\"\"Hierarhical Attention Network\"\"\"\n",
    "    import tensorflow as tf\n",
    "    try:\n",
    "        from tensorflow.contrib.rnn import GRUCell, MultiRNNCell, DropoutWrapper\n",
    "    except ImportError:\n",
    "        MultiRNNCell = tf.nn.rnn_cell.MultiRNNCell\n",
    "        GRUCell = tf.nn.rnn_cell.GRUCell\n",
    "    from bn_lstm import BNLSTMCell\n",
    "    from HanSequenceLabellingModel import HanSequenceLabellingModel\n",
    "\n",
    "    is_training = tf.placeholder(dtype=tf.bool, name='is_training')\n",
    "\n",
    "    cell = BNLSTMCell(80, is_training) # h-h batchnorm LSTMCell\n",
    "    cell = MultiRNNCell([cell]*5)\n",
    "\n",
    "    model = HanSequenceLabellingModel(\n",
    "            embedding_size=300,\n",
    "            classes=2,\n",
    "            word_cell=cell,\n",
    "            sentence_cell=cell,\n",
    "            word_output_size=300,\n",
    "            sentence_output_size=300,\n",
    "            learning_rate=0.001,\n",
    "            max_grad_norm=5.0,\n",
    "            dropout_keep_proba=0.5,\n",
    "            is_training=is_training,\n",
    "    )\n",
    "\n",
    "    saver = tf.train.Saver(tf.global_variables())\n",
    "    checkpoint_dir = 'checkpoints'\n",
    "    checkpoint = tf.train.get_checkpoint_state(checkpoint_dir)\n",
    "    if checkpoint:\n",
    "        print(\"Reading model parameters from %s\" % checkpoint.model_checkpoint_path)\n",
    "        saver.restore(session, checkpoint.model_checkpoint_path)\n",
    "    elif restore_only:\n",
    "        raise FileNotFoundError(\"Cannot restore model\")\n",
    "    else:\n",
    "        print(\"Created model with fresh parameters\")\n",
    "        session.run(tf.global_variables_initializer())\n",
    "        \n",
    "    return model, saver"
   ]
  },
  {
   "cell_type": "markdown",
   "metadata": {},
   "source": [
    "## Visualize attention for IMDB reviews on both sentence and word level (10 points)"
   ]
  },
  {
   "cell_type": "code",
   "execution_count": 15,
   "metadata": {},
   "outputs": [
    {
     "name": "stdout",
     "output_type": "stream",
     "text": [
      "Reading model parameters from checkpoints/checkpoint-2400\n",
      "INFO:tensorflow:Restoring parameters from checkpoints/checkpoint-2400\n"
     ]
    }
   ],
   "source": [
    "tf.reset_default_graph()\n",
    "\n",
    "config = tf.ConfigProto(allow_soft_placement=True, gpu_options=gpu_options)\n",
    "\n",
    "with tf.Session(config=config) as s:\n",
    "    model, saver = HAN_model_1(s)\n",
    "    tflog_dir = 'tf_logs'\n",
    "    summary_writer = tf.summary.FileWriter(tflog_dir, graph=tf.get_default_graph())\n",
    "    \n",
    "    data, labels_batch, sent_per_doc, words_per_sent_per_doc, sents_batch = next(batches_split)\n",
    "\n",
    "    fd = {\n",
    "        model.is_training: True,\n",
    "        model.inputs_embedded: data,\n",
    "        model.word_lengths: words_per_sent_per_doc,\n",
    "        model.sentence_lengths: sent_per_doc,\n",
    "        model.labels: labels_batch,\n",
    "        model.sample_weights: np.ones(shape=(10))\n",
    "    }\n",
    "\n",
    "    sentence_attention_weights,  word_attention_weights = s.run([model.sentence_attention_weights,\n",
    "                                                                 model.word_attention_weights],\n",
    "                                                                feed_dict=fd)"
   ]
  },
  {
   "cell_type": "code",
   "execution_count": 16,
   "metadata": {},
   "outputs": [
    {
     "data": {
      "text/plain": [
       "array([12, 10,  8,  8, 14,  9,  8, 15,  9, 27], dtype=int32)"
      ]
     },
     "execution_count": 16,
     "metadata": {},
     "output_type": "execute_result"
    }
   ],
   "source": [
    "sent_per_doc"
   ]
  },
  {
   "cell_type": "code",
   "execution_count": 188,
   "metadata": {
    "collapsed": true
   },
   "outputs": [],
   "source": [
    "words_per_sent = sents_batch[9]"
   ]
  },
  {
   "cell_type": "code",
   "execution_count": 256,
   "metadata": {
    "collapsed": true
   },
   "outputs": [],
   "source": [
    "sent_weights = sentence_attention_weights[9] / np.max(sentence_attention_weights[9]) - np.min(sentence_attention_weights[9])"
   ]
  },
  {
   "cell_type": "code",
   "execution_count": 257,
   "metadata": {
    "collapsed": true
   },
   "outputs": [],
   "source": [
    "word_weights_per_sent = []\n",
    "\n",
    "max_w = -1\n",
    "min_w = 1\n",
    "\n",
    "for i in range(len(words_per_sent)):\n",
    "    word_weights_per_sent.append([])\n",
    "    cur_weights = word_attention_weights[-len(words_per_sent) +i]    \n",
    "    for j in range(len(words_per_sent[i])):\n",
    "        word_weights_per_sent[-1].append(cur_weights[j][0])\n",
    "        max_w = max(max_w, cur_weights[j][0])\n",
    "        min_w = min(min_w, cur_weights[j][0])\n",
    "    \n",
    "    \n",
    "for i in range(len(words_per_sent)):\n",
    "    for j in range(len(words_per_sent[i])):\n",
    "        word_weights_per_sent[i][j] /= max_w\n",
    "        word_weights_per_sent[i][j] -= min_w"
   ]
  },
  {
   "cell_type": "code",
   "execution_count": 280,
   "metadata": {
    "collapsed": true
   },
   "outputs": [],
   "source": [
    "import colorsys\n",
    "\n",
    "def rgb2hex(colors):\n",
    "    return '#%02x%02x%02x' % colors\n",
    "\n",
    "def float_rgb2int_rgb(colors):\n",
    "    return tuple(int(x * 255) for x in colors)\n",
    "    \n",
    "def red2hex(saturation):\n",
    "    return rgb2hex(float_rgb2int_rgb(colorsys.hsv_to_rgb(0, saturation, 1)))\n",
    "    \n",
    "def blue2hex(saturation):\n",
    "    return rgb2hex(float_rgb2int_rgb(colorsys.hsv_to_rgb(0.65, saturation, 1)))"
   ]
  },
  {
   "cell_type": "code",
   "execution_count": 356,
   "metadata": {},
   "outputs": [
    {
     "ename": "SyntaxError",
     "evalue": "invalid syntax (<ipython-input-356-a6e16beeb1b9>, line 4)",
     "output_type": "error",
     "traceback": [
      "\u001b[0;36m  File \u001b[0;32m\"<ipython-input-356-a6e16beeb1b9>\"\u001b[0;36m, line \u001b[0;32m4\u001b[0m\n\u001b[0;31m    return \"<font size='3'><text style=background-color:{} fill-opacity=\".5\">{}</text></font>\".format(color, s)\u001b[0m\n\u001b[0m                                                                          ^\u001b[0m\n\u001b[0;31mSyntaxError\u001b[0m\u001b[0;31m:\u001b[0m invalid syntax\n"
     ]
    }
   ],
   "source": [
    "from IPython.display import HTML as html_print\n",
    "\n",
    "def colored_str(s, color='white'):\n",
    "    return \"<font size='3'><text style=background-color:{} fill-opacity=\".5\">{}</text></font>\".format(color, s)\n",
    "\n",
    "def sentence(weight_sentence, words, weights):\n",
    "    return colored_str('&nbsp;&nbsp;&nbsp;&nbsp;&nbsp;', red2hex(weight_sentence)) + '&nbsp;&nbsp;' + '&nbsp;&nbsp;'.join([colored_str(word, blue2hex(weight))\n",
    "                                                                            for word, weight in zip(words, weights)])"
   ]
  },
  {
   "cell_type": "code",
   "execution_count": 319,
   "metadata": {
    "collapsed": true
   },
   "outputs": [],
   "source": [
    "def print_several(rows):\n",
    "    ans = '<table cellspacing=\"0\" cellpadding=\"0\"> '\n",
    "    for r in rows:\n",
    "        ans += '<tr style=\"background-color:white\"><td style=\"text-align:left\">' + r + '</td></tr>'\n",
    "    ans += '</table>'\n",
    "    return ans"
   ]
  },
  {
   "cell_type": "code",
   "execution_count": 312,
   "metadata": {
    "collapsed": true
   },
   "outputs": [],
   "source": [
    "sents = [sentence(i, j, k) for i, j, k in zip(sent_weights, words_per_sent, word_weights_per_sent)]"
   ]
  },
  {
   "cell_type": "code",
   "execution_count": 318,
   "metadata": {
    "collapsed": true
   },
   "outputs": [],
   "source": [
    "sents = sorted(sents)"
   ]
  },
  {
   "cell_type": "code",
   "execution_count": 320,
   "metadata": {
    "scrolled": false
   },
   "outputs": [
    {
     "data": {
      "text/html": [
       "<table cellspacing=\"0\" cellpadding=\"0\"> <tr style=\"background-color:white\"><td style=\"text-align:left\"><font size='3'><text style=background-color:#ff0404>&nbsp;&nbsp;&nbsp;&nbsp;&nbsp;</text></font>&nbsp;&nbsp;<font size='3'><text style=background-color:#d8dcff>when</text></font>&nbsp;&nbsp;<font size='3'><text style=background-color:#d3d7ff>one</text></font>&nbsp;&nbsp;<font size='3'><text style=background-color:#cdd2ff>thinks</text></font>&nbsp;&nbsp;<font size='3'><text style=background-color:#dde0ff>of</text></font>&nbsp;&nbsp;<font size='3'><text style=background-color:#dee1ff>s</text></font>&nbsp;&nbsp;<font size='3'><text style=background-color:#d7dbff>science</text></font>&nbsp;&nbsp;<font size='3'><text style=background-color:#c2c8ff>fiction</text></font>&nbsp;&nbsp;<font size='3'><text style=background-color:#8793ff>films</text></font>&nbsp;&nbsp;<font size='3'><text style=background-color:#5f6fff>one</text></font>&nbsp;&nbsp;<font size='3'><text style=background-color:#6171ff>thinks</text></font>&nbsp;&nbsp;<font size='3'><text style=background-color:#b3bbff>of</text></font>&nbsp;&nbsp;<font size='3'><text style=background-color:#b2baff>the</text></font>&nbsp;&nbsp;<font size='3'><text style=background-color:#9ba5ff>sort</text></font>&nbsp;&nbsp;<font size='3'><text style=background-color:#c1c7ff>of</text></font>&nbsp;&nbsp;<font size='3'><text style=background-color:#c0c6ff>schlocky</text></font>&nbsp;&nbsp;<font size='3'><text style=background-color:#cdd2ff>black</text></font>&nbsp;&nbsp;<font size='3'><text style=background-color:#d4d8ff>and</text></font>&nbsp;&nbsp;<font size='3'><text style=background-color:#ccd1ff>white</text></font>&nbsp;&nbsp;<font size='3'><text style=background-color:#d9ddff>b</text></font>&nbsp;&nbsp;<font size='3'><text style=background-color:#c0c6ff>films</text></font>&nbsp;&nbsp;<font size='3'><text style=background-color:#b7beff>that</text></font>&nbsp;&nbsp;<font size='3'><text style=background-color:#c6ccff>were</text></font>&nbsp;&nbsp;<font size='3'><text style=background-color:#dcdfff>parodied</text></font>&nbsp;&nbsp;<font size='3'><text style=background-color:#dfe2ff>on</text></font>&nbsp;&nbsp;<font size='3'><text style=background-color:#dce0ff>the</text></font>&nbsp;&nbsp;<font size='3'><text style=background-color:#dee1ff>old</text></font>&nbsp;&nbsp;<font size='3'><text style=background-color:#d4d8ff>mystery</text></font>&nbsp;&nbsp;<font size='3'><text style=background-color:#c8cdff>science</text></font>&nbsp;&nbsp;<font size='3'><text style=background-color:#c8cdff>theater</text></font>&nbsp;&nbsp;<font size='3'><text style=background-color:#b8bfff>television</text></font>&nbsp;&nbsp;<font size='3'><text style=background-color:#bbc1ff>show</text></font></td></tr><tr style=\"background-color:white\"><td style=\"text-align:left\"><font size='3'><text style=background-color:#ff2525>&nbsp;&nbsp;&nbsp;&nbsp;&nbsp;</text></font>&nbsp;&nbsp;<font size='3'><text style=background-color:#ccd1ff>forbidden</text></font>&nbsp;&nbsp;<font size='3'><text style=background-color:#cacfff>planet</text></font>&nbsp;&nbsp;<font size='3'><text style=background-color:#bac1ff>is</text></font>&nbsp;&nbsp;<font size='3'><text style=background-color:#cacfff>one</text></font>&nbsp;&nbsp;<font size='3'><text style=background-color:#c7cdff>of</text></font>&nbsp;&nbsp;<font size='3'><text style=background-color:#c9cfff>those</text></font>&nbsp;&nbsp;<font size='3'><text style=background-color:#bcc3ff>rare</text></font>&nbsp;&nbsp;<font size='3'><text style=background-color:#9ea8ff>films</text></font>&nbsp;&nbsp;<font size='3'><text style=background-color:#a3acff>that</text></font>&nbsp;&nbsp;<font size='3'><text style=background-color:#9fa9ff>both</text></font>&nbsp;&nbsp;<font size='3'><text style=background-color:#949fff>defines</text></font>&nbsp;&nbsp;<font size='3'><text style=background-color:#929dff>yet</text></font>&nbsp;&nbsp;<font size='3'><text style=background-color:#adb5ff>transcends</text></font>&nbsp;&nbsp;<font size='3'><text style=background-color:#a3acff>its</text></font>&nbsp;&nbsp;<font size='3'><text style=background-color:#aeb6ff>era</text></font>&nbsp;&nbsp;<font size='3'><text style=background-color:#b7beff>unlike</text></font>&nbsp;&nbsp;<font size='3'><text style=background-color:#d1d6ff>other</text></font>&nbsp;&nbsp;<font size='3'><text style=background-color:#d6daff>sci</text></font>&nbsp;&nbsp;<font size='3'><text style=background-color:#cfd4ff>fi</text></font>&nbsp;&nbsp;<font size='3'><text style=background-color:#a4adff>films</text></font>&nbsp;&nbsp;<font size='3'><text style=background-color:#7f8cff>which</text></font>&nbsp;&nbsp;<font size='3'><text style=background-color:#a9b1ff>were</text></font>&nbsp;&nbsp;<font size='3'><text style=background-color:#bec4ff>rather</text></font>&nbsp;&nbsp;<font size='3'><text style=background-color:#a1aaff>obvious</text></font>&nbsp;&nbsp;<font size='3'><text style=background-color:#c6ccff>cold</text></font>&nbsp;&nbsp;<font size='3'><text style=background-color:#e0e3ff>war</text></font>&nbsp;&nbsp;<font size='3'><text style=background-color:#e1e4ff>allegories</text></font></td></tr><tr style=\"background-color:white\"><td style=\"text-align:left\"><font size='3'><text style=background-color:#ff3939>&nbsp;&nbsp;&nbsp;&nbsp;&nbsp;</text></font>&nbsp;&nbsp;<font size='3'><text style=background-color:#c4caff>br</text></font>&nbsp;&nbsp;<font size='3'><text style=background-color:#cbd0ff>br</text></font>&nbsp;&nbsp;<font size='3'><text style=background-color:#b7beff>it</text></font>&nbsp;&nbsp;<font size='3'><text style=background-color:#cdd2ff>s</text></font>&nbsp;&nbsp;<font size='3'><text style=background-color:#d3d7ff>worth</text></font>&nbsp;&nbsp;<font size='3'><text style=background-color:#dadeff>knowing</text></font>&nbsp;&nbsp;<font size='3'><text style=background-color:#d8dcff>that</text></font>&nbsp;&nbsp;<font size='3'><text style=background-color:#d1d6ff>,</text></font>&nbsp;&nbsp;<font size='3'><text style=background-color:#d2d7ff>despite</text></font>&nbsp;&nbsp;<font size='3'><text style=background-color:#d7dbff>forbidden</text></font>&nbsp;&nbsp;<font size='3'><text style=background-color:#d6daff>planet</text></font>&nbsp;&nbsp;<font size='3'><text style=background-color:#d6daff>s</text></font>&nbsp;&nbsp;<font size='3'><text style=background-color:#d3d7ff>happy</text></font>&nbsp;&nbsp;<font size='3'><text style=background-color:#bec5ff>ending</text></font>&nbsp;&nbsp;<font size='3'><text style=background-color:#afb7ff>,</text></font>&nbsp;&nbsp;<font size='3'><text style=background-color:#bcc3ff>there</text></font>&nbsp;&nbsp;<font size='3'><text style=background-color:#b5bdff>is</text></font>&nbsp;&nbsp;<font size='3'><text style=background-color:#b6bdff>the</text></font>&nbsp;&nbsp;<font size='3'><text style=background-color:#c2c8ff>possibility</text></font>&nbsp;&nbsp;<font size='3'><text style=background-color:#cfd4ff>that</text></font>&nbsp;&nbsp;<font size='3'><text style=background-color:#cfd3ff>the</text></font>&nbsp;&nbsp;<font size='3'><text style=background-color:#cfd4ff>moti</text></font>&nbsp;&nbsp;<font size='3'><text style=background-color:#b2baff>is</text></font>&nbsp;&nbsp;<font size='3'><text style=background-color:#bcc2ff>still</text></font>&nbsp;&nbsp;<font size='3'><text style=background-color:#c7ccff>dormant</text></font>&nbsp;&nbsp;<font size='3'><text style=background-color:#c2c8ff>within</text></font>&nbsp;&nbsp;<font size='3'><text style=background-color:#c1c7ff>alta</text></font>&nbsp;&nbsp;<font size='3'><text style=background-color:#aeb6ff>,</text></font>&nbsp;&nbsp;<font size='3'><text style=background-color:#9ca6ff>as</text></font>&nbsp;&nbsp;<font size='3'><text style=background-color:#818eff>well</text></font></td></tr><tr style=\"background-color:white\"><td style=\"text-align:left\"><font size='3'><text style=background-color:#ff4040>&nbsp;&nbsp;&nbsp;&nbsp;&nbsp;</text></font>&nbsp;&nbsp;<font size='3'><text style=background-color:#7f8cff>only</text></font>&nbsp;&nbsp;<font size='3'><text style=background-color:#d3d8ff>such</text></font>&nbsp;&nbsp;<font size='3'><text style=background-color:#c4caff>films</text></font>&nbsp;&nbsp;<font size='3'><text style=background-color:#cbd0ff>like</text></font>&nbsp;&nbsp;<font size='3'><text style=background-color:#d0d5ff>:</text></font>&nbsp;&nbsp;<font size='3'><text style=background-color:#dbdeff>a</text></font>&nbsp;&nbsp;<font size='3'><text style=background-color:#e0e3ff>space</text></font>&nbsp;&nbsp;<font size='3'><text style=background-color:#e4e6ff>odyssey</text></font>&nbsp;&nbsp;<font size='3'><text style=background-color:#e0e3ff>,</text></font>&nbsp;&nbsp;<font size='3'><text style=background-color:#e1e4ff>solaris</text></font>&nbsp;&nbsp;<font size='3'><text style=background-color:#dadeff>,</text></font>&nbsp;&nbsp;<font size='3'><text style=background-color:#dee1ff>alien</text></font>&nbsp;&nbsp;<font size='3'><text style=background-color:#e1e4ff>and</text></font>&nbsp;&nbsp;<font size='3'><text style=background-color:#e2e5ff>aliens</text></font>&nbsp;&nbsp;<font size='3'><text style=background-color:#e1e4ff>,</text></font>&nbsp;&nbsp;<font size='3'><text style=background-color:#dfe2ff>and</text></font>&nbsp;&nbsp;<font size='3'><text style=background-color:#dbdfff>the</text></font>&nbsp;&nbsp;<font size='3'><text style=background-color:#dadeff>first</text></font>&nbsp;&nbsp;<font size='3'><text style=background-color:#dcdfff>two</text></font>&nbsp;&nbsp;<font size='3'><text style=background-color:#e0e3ff>terminator</text></font>&nbsp;&nbsp;<font size='3'><text style=background-color:#c5cbff>films</text></font>&nbsp;&nbsp;<font size='3'><text style=background-color:#a7afff>,</text></font>&nbsp;&nbsp;<font size='3'><text style=background-color:#bcc2ff>have</text></font>&nbsp;&nbsp;<font size='3'><text style=background-color:#ced3ff>really</text></font>&nbsp;&nbsp;<font size='3'><text style=background-color:#cfd4ff>equaled</text></font>&nbsp;&nbsp;<font size='3'><text style=background-color:#c8cdff>or</text></font>&nbsp;&nbsp;<font size='3'><text style=background-color:#c1c7ff>surpassed</text></font>&nbsp;&nbsp;<font size='3'><text style=background-color:#a0a9ff>this</text></font>&nbsp;&nbsp;<font size='3'><text style=background-color:#7885ff>classic</text></font>&nbsp;&nbsp;<font size='3'><text style=background-color:#aeb6ff>in</text></font>&nbsp;&nbsp;<font size='3'><text style=background-color:#7986ff>depth</text></font>&nbsp;&nbsp;<font size='3'><text style=background-color:#818eff>and</text></font>&nbsp;&nbsp;<font size='3'><text style=background-color:#5162ff>effects</text></font></td></tr><tr style=\"background-color:white\"><td style=\"text-align:left\"><font size='3'><text style=background-color:#ff4141>&nbsp;&nbsp;&nbsp;&nbsp;&nbsp;</text></font>&nbsp;&nbsp;<font size='3'><text style=background-color:#bec4ff>yet</text></font>&nbsp;&nbsp;<font size='3'><text style=background-color:#d9ddff>,</text></font>&nbsp;&nbsp;<font size='3'><text style=background-color:#e3e6ff>while</text></font>&nbsp;&nbsp;<font size='3'><text style=background-color:#eaecff>there</text></font>&nbsp;&nbsp;<font size='3'><text style=background-color:#f2f3ff>were</text></font>&nbsp;&nbsp;<font size='3'><text style=background-color:#f4f5ff>far</text></font>&nbsp;&nbsp;<font size='3'><text style=background-color:#f3f4ff>more</text></font>&nbsp;&nbsp;<font size='3'><text style=background-color:#ecedff>films</text></font>&nbsp;&nbsp;<font size='3'><text style=background-color:#eff1ff>like</text></font>&nbsp;&nbsp;<font size='3'><text style=background-color:#f3f4ff>plan</text></font>&nbsp;&nbsp;<font size='3'><text style=background-color:#f3f4ff>from</text></font>&nbsp;&nbsp;<font size='3'><text style=background-color:#f2f3ff>outer</text></font>&nbsp;&nbsp;<font size='3'><text style=background-color:#f2f3ff>space</text></font>&nbsp;&nbsp;<font size='3'><text style=background-color:#eff1ff>and</text></font>&nbsp;&nbsp;<font size='3'><text style=background-color:#ecedff>robot</text></font>&nbsp;&nbsp;<font size='3'><text style=background-color:#dde0ff>monster</text></font>&nbsp;&nbsp;<font size='3'><text style=background-color:#e3e6ff>than</text></font>&nbsp;&nbsp;<font size='3'><text style=background-color:#dce0ff>good</text></font>&nbsp;&nbsp;<font size='3'><text style=background-color:#dbdeff>films</text></font>&nbsp;&nbsp;<font size='3'><text style=background-color:#dbdfff>,</text></font>&nbsp;&nbsp;<font size='3'><text style=background-color:#dbdeff>the</text></font>&nbsp;&nbsp;<font size='3'><text style=background-color:#d8dcff>s</text></font>&nbsp;&nbsp;<font size='3'><text style=background-color:#dde1ff>did</text></font>&nbsp;&nbsp;<font size='3'><text style=background-color:#e9ebff>have</text></font>&nbsp;&nbsp;<font size='3'><text style=background-color:#eceeff>some</text></font>&nbsp;&nbsp;<font size='3'><text style=background-color:#e5e7ff>very</text></font>&nbsp;&nbsp;<font size='3'><text style=background-color:#e2e5ff>good</text></font>&nbsp;&nbsp;<font size='3'><text style=background-color:#e1e4ff>,</text></font>&nbsp;&nbsp;<font size='3'><text style=background-color:#e8eaff>if</text></font>&nbsp;&nbsp;<font size='3'><text style=background-color:#eaecff>not</text></font>&nbsp;&nbsp;<font size='3'><text style=background-color:#d7dbff>great</text></font>&nbsp;&nbsp;<font size='3'><text style=background-color:#dce0ff>,</text></font>&nbsp;&nbsp;<font size='3'><text style=background-color:#d5d9ff>science</text></font>&nbsp;&nbsp;<font size='3'><text style=background-color:#c3c9ff>fiction</text></font>&nbsp;&nbsp;<font size='3'><text style=background-color:#b5bcff>films</text></font>&nbsp;&nbsp;<font size='3'><text style=background-color:#c9ceff>like</text></font>&nbsp;&nbsp;<font size='3'><text style=background-color:#d5d9ff>the</text></font>&nbsp;&nbsp;<font size='3'><text style=background-color:#e0e3ff>day</text></font>&nbsp;&nbsp;<font size='3'><text style=background-color:#e3e5ff>the</text></font>&nbsp;&nbsp;<font size='3'><text style=background-color:#dee2ff>earth</text></font>&nbsp;&nbsp;<font size='3'><text style=background-color:#e0e3ff>stood</text></font>&nbsp;&nbsp;<font size='3'><text style=background-color:#e3e5ff>still</text></font>&nbsp;&nbsp;<font size='3'><text style=background-color:#d9ddff>,</text></font>&nbsp;&nbsp;<font size='3'><text style=background-color:#d8dcff>the</text></font>&nbsp;&nbsp;<font size='3'><text style=background-color:#bec5ff>incredible</text></font>&nbsp;&nbsp;<font size='3'><text style=background-color:#c3c9ff>shrinking</text></font>&nbsp;&nbsp;<font size='3'><text style=background-color:#ced3ff>man</text></font>&nbsp;&nbsp;<font size='3'><text style=background-color:#c8ceff>,</text></font>&nbsp;&nbsp;<font size='3'><text style=background-color:#d5d9ff>invasion</text></font>&nbsp;&nbsp;<font size='3'><text style=background-color:#d6daff>of</text></font>&nbsp;&nbsp;<font size='3'><text style=background-color:#d9ddff>the</text></font>&nbsp;&nbsp;<font size='3'><text style=background-color:#dde1ff>body</text></font>&nbsp;&nbsp;<font size='3'><text style=background-color:#e2e5ff>snatchers</text></font>&nbsp;&nbsp;<font size='3'><text style=background-color:#d9ddff>,</text></font>&nbsp;&nbsp;<font size='3'><text style=background-color:#dce0ff>war</text></font>&nbsp;&nbsp;<font size='3'><text style=background-color:#d3d8ff>of</text></font>&nbsp;&nbsp;<font size='3'><text style=background-color:#d4d8ff>the</text></font>&nbsp;&nbsp;<font size='3'><text style=background-color:#c8cdff>worlds</text></font>&nbsp;&nbsp;<font size='3'><text style=background-color:#cbd0ff>,</text></font>&nbsp;&nbsp;<font size='3'><text style=background-color:#c5caff>and</text></font>&nbsp;&nbsp;<font size='3'><text style=background-color:#c6cbff>the</text></font>&nbsp;&nbsp;<font size='3'><text style=background-color:#c2c8ff>thing</text></font>&nbsp;&nbsp;<font size='3'><text style=background-color:#d2d6ff>from</text></font>&nbsp;&nbsp;<font size='3'><text style=background-color:#dbdfff>another</text></font>&nbsp;&nbsp;<font size='3'><text style=background-color:#dfe2ff>world</text></font></td></tr><tr style=\"background-color:white\"><td style=\"text-align:left\"><font size='3'><text style=background-color:#ff4343>&nbsp;&nbsp;&nbsp;&nbsp;&nbsp;</text></font>&nbsp;&nbsp;<font size='3'><text style=background-color:#7c89ff>watch</text></font>&nbsp;&nbsp;<font size='3'><text style=background-color:#5e6eff>it</text></font>&nbsp;&nbsp;<font size='3'><text style=background-color:#8a95ff>,</text></font>&nbsp;&nbsp;<font size='3'><text style=background-color:#a7b0ff>and</text></font>&nbsp;&nbsp;<font size='3'><text style=background-color:#b5bdff>you</text></font>&nbsp;&nbsp;<font size='3'><text style=background-color:#c0c6ff>will</text></font>&nbsp;&nbsp;<font size='3'><text style=background-color:#c9cfff>agree</text></font>&nbsp;&nbsp;<font size='3'><text style=background-color:#ccd1ff>,</text></font>&nbsp;&nbsp;<font size='3'><text style=background-color:#c8cdff>as</text></font>&nbsp;&nbsp;<font size='3'><text style=background-color:#acb4ff>well</text></font>&nbsp;&nbsp;<font size='3'><text style=background-color:#8e99ff>as</text></font>&nbsp;&nbsp;<font size='3'><text style=background-color:#717fff>sleep</text></font>&nbsp;&nbsp;<font size='3'><text style=background-color:#b0b8ff>a</text></font>&nbsp;&nbsp;<font size='3'><text style=background-color:#b2baff>little</text></font>&nbsp;&nbsp;<font size='3'><text style=background-color:#a9b2ff>less</text></font>&nbsp;&nbsp;<font size='3'><text style=background-color:#aab2ff>easy</text></font></td></tr><tr style=\"background-color:white\"><td style=\"text-align:left\"><font size='3'><text style=background-color:#ff4a4a>&nbsp;&nbsp;&nbsp;&nbsp;&nbsp;</text></font>&nbsp;&nbsp;<font size='3'><text style=background-color:#838fff>the</text></font>&nbsp;&nbsp;<font size='3'><text style=background-color:#495bff>film</text></font>&nbsp;&nbsp;<font size='3'><text style=background-color:#828fff>also</text></font>&nbsp;&nbsp;<font size='3'><text style=background-color:#a1aaff>makes</text></font>&nbsp;&nbsp;<font size='3'><text style=background-color:#b5bcff>good</text></font>&nbsp;&nbsp;<font size='3'><text style=background-color:#d4d8ff>use</text></font>&nbsp;&nbsp;<font size='3'><text style=background-color:#dadeff>of</text></font>&nbsp;&nbsp;<font size='3'><text style=background-color:#c3c9ff>narrative</text></font>&nbsp;&nbsp;<font size='3'><text style=background-color:#cdd2ff>ellipses</text></font>&nbsp;&nbsp;<font size='3'><text style=background-color:#d6daff>to</text></font>&nbsp;&nbsp;<font size='3'><text style=background-color:#d9ddff>condense</text></font>&nbsp;&nbsp;<font size='3'><text style=background-color:#d5daff>the</text></font>&nbsp;&nbsp;<font size='3'><text style=background-color:#afb7ff>tale</text></font>&nbsp;&nbsp;<font size='3'><text style=background-color:#aeb6ff>,</text></font>&nbsp;&nbsp;<font size='3'><text style=background-color:#afb7ff>something</text></font>&nbsp;&nbsp;<font size='3'><text style=background-color:#b8bfff>that</text></font>&nbsp;&nbsp;<font size='3'><text style=background-color:#bec5ff>far</text></font>&nbsp;&nbsp;<font size='3'><text style=background-color:#d7dbff>more</text></font>&nbsp;&nbsp;<font size='3'><text style=background-color:#c6ccff>realistic</text></font>&nbsp;&nbsp;<font size='3'><text style=background-color:#bac1ff>art</text></font>&nbsp;&nbsp;<font size='3'><text style=background-color:#7c89ff>films</text></font>&nbsp;&nbsp;<font size='3'><text style=background-color:#919cff>often</text></font>&nbsp;&nbsp;<font size='3'><text style=background-color:#3d51ff>fail</text></font>&nbsp;&nbsp;<font size='3'><text style=background-color:#bac1ff>to</text></font>&nbsp;&nbsp;<font size='3'><text style=background-color:#c8ceff>do</text></font></td></tr><tr style=\"background-color:white\"><td style=\"text-align:left\"><font size='3'><text style=background-color:#ff4e4e>&nbsp;&nbsp;&nbsp;&nbsp;&nbsp;</text></font>&nbsp;&nbsp;<font size='3'><text style=background-color:#7482ff>it</text></font>&nbsp;&nbsp;<font size='3'><text style=background-color:#a2abff>s</text></font>&nbsp;&nbsp;<font size='3'><text style=background-color:#9ea7ff>not</text></font>&nbsp;&nbsp;<font size='3'><text style=background-color:#8490ff>a</text></font>&nbsp;&nbsp;<font size='3'><text style=background-color:#98a2ff>perfect</text></font>&nbsp;&nbsp;<font size='3'><text style=background-color:#a4adff>film</text></font>&nbsp;&nbsp;<font size='3'><text style=background-color:#9fa9ff>,</text></font>&nbsp;&nbsp;<font size='3'><text style=background-color:#a3acff>but</text></font>&nbsp;&nbsp;<font size='3'><text style=background-color:#9da7ff>it</text></font>&nbsp;&nbsp;<font size='3'><text style=background-color:#bac1ff>s</text></font>&nbsp;&nbsp;<font size='3'><text style=background-color:#c6ccff>a</text></font>&nbsp;&nbsp;<font size='3'><text style=background-color:#b7beff>great</text></font>&nbsp;&nbsp;<font size='3'><text style=background-color:#b4bcff>way</text></font>&nbsp;&nbsp;<font size='3'><text style=background-color:#cacfff>to</text></font>&nbsp;&nbsp;<font size='3'><text style=background-color:#e3e6ff>spend</text></font>&nbsp;&nbsp;<font size='3'><text style=background-color:#edefff>a</text></font>&nbsp;&nbsp;<font size='3'><text style=background-color:#eff1ff>couple</text></font>&nbsp;&nbsp;<font size='3'><text style=background-color:#f0f2ff>of</text></font>&nbsp;&nbsp;<font size='3'><text style=background-color:#f0f2ff>hours</text></font>&nbsp;&nbsp;<font size='3'><text style=background-color:#f0f1ff>,</text></font>&nbsp;&nbsp;<font size='3'><text style=background-color:#eeefff>and</text></font>&nbsp;&nbsp;<font size='3'><text style=background-color:#e9ebff>far</text></font>&nbsp;&nbsp;<font size='3'><text style=background-color:#e8eaff>better</text></font>&nbsp;&nbsp;<font size='3'><text style=background-color:#edefff>than</text></font>&nbsp;&nbsp;<font size='3'><text style=background-color:#f0f1ff>star</text></font>&nbsp;&nbsp;<font size='3'><text style=background-color:#f0f2ff>wars</text></font>&nbsp;&nbsp;<font size='3'><text style=background-color:#ecedff>,</text></font>&nbsp;&nbsp;<font size='3'><text style=background-color:#e6e9ff>which</text></font>&nbsp;&nbsp;<font size='3'><text style=background-color:#e4e7ff>although</text></font>&nbsp;&nbsp;<font size='3'><text style=background-color:#e6e9ff>made</text></font>&nbsp;&nbsp;<font size='3'><text style=background-color:#ebedff>twenty</text></font>&nbsp;&nbsp;<font size='3'><text style=background-color:#eaecff>years</text></font>&nbsp;&nbsp;<font size='3'><text style=background-color:#e3e6ff>later</text></font>&nbsp;&nbsp;<font size='3'><text style=background-color:#d8dbff>seems</text></font>&nbsp;&nbsp;<font size='3'><text style=background-color:#dde1ff>much</text></font>&nbsp;&nbsp;<font size='3'><text style=background-color:#dee1ff>more</text></font>&nbsp;&nbsp;<font size='3'><text style=background-color:#808dff>outdated</text></font>&nbsp;&nbsp;<font size='3'><text style=background-color:#a4adff>,</text></font>&nbsp;&nbsp;<font size='3'><text style=background-color:#a7b0ff>and</text></font>&nbsp;&nbsp;<font size='3'><text style=background-color:#a3acff>juvenile</text></font></td></tr><tr style=\"background-color:white\"><td style=\"text-align:left\"><font size='3'><text style=background-color:#ff5858>&nbsp;&nbsp;&nbsp;&nbsp;&nbsp;</text></font>&nbsp;&nbsp;<font size='3'><text style=background-color:#ced3ff>also</text></font>&nbsp;&nbsp;<font size='3'><text style=background-color:#c3c9ff>,</text></font>&nbsp;&nbsp;<font size='3'><text style=background-color:#c1c8ff>the</text></font>&nbsp;&nbsp;<font size='3'><text style=background-color:#9ea8ff>film</text></font>&nbsp;&nbsp;<font size='3'><text style=background-color:#aeb6ff>wisely</text></font>&nbsp;&nbsp;<font size='3'><text style=background-color:#b6beff>only</text></font>&nbsp;&nbsp;<font size='3'><text style=background-color:#cdd2ff>shows</text></font>&nbsp;&nbsp;<font size='3'><text style=background-color:#d3d7ff>the</text></font>&nbsp;&nbsp;<font size='3'><text style=background-color:#d8dcff>moti</text></font>&nbsp;&nbsp;<font size='3'><text style=background-color:#dbdeff>once</text></font>&nbsp;&nbsp;<font size='3'><text style=background-color:#d4d8ff>,</text></font>&nbsp;&nbsp;<font size='3'><text style=background-color:#d2d7ff>and</text></font>&nbsp;&nbsp;<font size='3'><text style=background-color:#d6daff>never</text></font>&nbsp;&nbsp;<font size='3'><text style=background-color:#d6daff>shows</text></font>&nbsp;&nbsp;<font size='3'><text style=background-color:#d2d7ff>the</text></font>&nbsp;&nbsp;<font size='3'><text style=background-color:#d2d7ff>krel</text></font>&nbsp;&nbsp;<font size='3'><text style=background-color:#c7cdff>,</text></font>&nbsp;&nbsp;<font size='3'><text style=background-color:#d1d6ff>for</text></font>&nbsp;&nbsp;<font size='3'><text style=background-color:#d1d5ff>the</text></font>&nbsp;&nbsp;<font size='3'><text style=background-color:#bac1ff>imagination</text></font>&nbsp;&nbsp;<font size='3'><text style=background-color:#c7ccff>can</text></font>&nbsp;&nbsp;<font size='3'><text style=background-color:#bdc3ff>always</text></font>&nbsp;&nbsp;<font size='3'><text style=background-color:#c4caff>conjure</text></font>&nbsp;&nbsp;<font size='3'><text style=background-color:#c6ccff>greater</text></font>&nbsp;&nbsp;<font size='3'><text style=background-color:#a8b1ff>scares</text></font>&nbsp;&nbsp;<font size='3'><text style=background-color:#c1c7ff>than</text></font>&nbsp;&nbsp;<font size='3'><text style=background-color:#acb4ff>the</text></font>&nbsp;&nbsp;<font size='3'><text style=background-color:#828eff>best</text></font>&nbsp;&nbsp;<font size='3'><text style=background-color:#8b97ff>special</text></font>&nbsp;&nbsp;<font size='3'><text style=background-color:#6a78ff>effects</text></font></td></tr><tr style=\"background-color:white\"><td style=\"text-align:left\"><font size='3'><text style=background-color:#ff5d5d>&nbsp;&nbsp;&nbsp;&nbsp;&nbsp;</text></font>&nbsp;&nbsp;<font size='3'><text style=background-color:#6d7cff>that</text></font>&nbsp;&nbsp;<font size='3'><text style=background-color:#8390ff>alone</text></font>&nbsp;&nbsp;<font size='3'><text style=background-color:#8b97ff>is</text></font>&nbsp;&nbsp;<font size='3'><text style=background-color:#8b96ff>timeless</text></font></td></tr><tr style=\"background-color:white\"><td style=\"text-align:left\"><font size='3'><text style=background-color:#ff6666>&nbsp;&nbsp;&nbsp;&nbsp;&nbsp;</text></font>&nbsp;&nbsp;<font size='3'><text style=background-color:#a2abff>as</text></font>&nbsp;&nbsp;<font size='3'><text style=background-color:#bac1ff>for</text></font>&nbsp;&nbsp;<font size='3'><text style=background-color:#b8bfff>the</text></font>&nbsp;&nbsp;<font size='3'><text style=background-color:#8f9aff>main</text></font>&nbsp;&nbsp;<font size='3'><text style=background-color:#8a96ff>feature</text></font>&nbsp;&nbsp;<font size='3'><text style=background-color:#011aff>?</text></font>&nbsp;&nbsp;<font size='3'><text style=background-color:#5b6bff>forbidden</text></font>&nbsp;&nbsp;<font size='3'><text style=background-color:#6978ff>planet</text></font>&nbsp;&nbsp;<font size='3'><text style=background-color:#6b79ff>deserves</text></font>&nbsp;&nbsp;<font size='3'><text style=background-color:#a6afff>all</text></font>&nbsp;&nbsp;<font size='3'><text style=background-color:#919cff>its</text></font>&nbsp;&nbsp;<font size='3'><text style=background-color:#939eff>kudos</text></font></td></tr><tr style=\"background-color:white\"><td style=\"text-align:left\"><font size='3'><text style=background-color:#ff7272>&nbsp;&nbsp;&nbsp;&nbsp;&nbsp;</text></font>&nbsp;&nbsp;<font size='3'><text style=background-color:#818dff>but</text></font>&nbsp;&nbsp;<font size='3'><text style=background-color:#8692ff>,</text></font>&nbsp;&nbsp;<font size='3'><text style=background-color:#9ca6ff>even</text></font>&nbsp;&nbsp;<font size='3'><text style=background-color:#b8bfff>if</text></font>&nbsp;&nbsp;<font size='3'><text style=background-color:#c7ccff>you</text></font>&nbsp;&nbsp;<font size='3'><text style=background-color:#c0c6ff>don</text></font>&nbsp;&nbsp;<font size='3'><text style=background-color:#c5cbff>t</text></font>&nbsp;&nbsp;<font size='3'><text style=background-color:#cdd2ff>,</text></font>&nbsp;&nbsp;<font size='3'><text style=background-color:#c8ceff>there</text></font>&nbsp;&nbsp;<font size='3'><text style=background-color:#d0d5ff>s</text></font>&nbsp;&nbsp;<font size='3'><text style=background-color:#d1d6ff>still</text></font>&nbsp;&nbsp;<font size='3'><text style=background-color:#cdd2ff>the</text></font>&nbsp;&nbsp;<font size='3'><text style=background-color:#bac1ff>scene</text></font>&nbsp;&nbsp;<font size='3'><text style=background-color:#acb4ff>of</text></font>&nbsp;&nbsp;<font size='3'><text style=background-color:#a5aeff>anne</text></font>&nbsp;&nbsp;<font size='3'><text style=background-color:#afb7ff>francis</text></font>&nbsp;&nbsp;<font size='3'><text style=background-color:#b5bcff>skinnydipping</text></font></td></tr><tr style=\"background-color:white\"><td style=\"text-align:left\"><font size='3'><text style=background-color:#ff7f7f>&nbsp;&nbsp;&nbsp;&nbsp;&nbsp;</text></font>&nbsp;&nbsp;<font size='3'><text style=background-color:#ced3ff>after</text></font>&nbsp;&nbsp;<font size='3'><text style=background-color:#d2d6ff>all</text></font>&nbsp;&nbsp;<font size='3'><text style=background-color:#c9ceff>,</text></font>&nbsp;&nbsp;<font size='3'><text style=background-color:#cfd3ff>she</text></font>&nbsp;&nbsp;<font size='3'><text style=background-color:#c6cbff>is</text></font>&nbsp;&nbsp;<font size='3'><text style=background-color:#c9ceff>her</text></font>&nbsp;&nbsp;<font size='3'><text style=background-color:#cdd2ff>father</text></font>&nbsp;&nbsp;<font size='3'><text style=background-color:#cdd2ff>s</text></font>&nbsp;&nbsp;<font size='3'><text style=background-color:#ced3ff>daughter</text></font>&nbsp;&nbsp;<font size='3'><text style=background-color:#c9ceff>,</text></font>&nbsp;&nbsp;<font size='3'><text style=background-color:#b2baff>and</text></font>&nbsp;&nbsp;<font size='3'><text style=background-color:#b5bdff>had</text></font>&nbsp;&nbsp;<font size='3'><text style=background-color:#c6ccff>an</text></font>&nbsp;&nbsp;<font size='3'><text style=background-color:#c6ccff>even</text></font>&nbsp;&nbsp;<font size='3'><text style=background-color:#cbd0ff>more</text></font>&nbsp;&nbsp;<font size='3'><text style=background-color:#c6cbff>vivid</text></font>&nbsp;&nbsp;<font size='3'><text style=background-color:#b6bdff>nightmare</text></font>&nbsp;&nbsp;<font size='3'><text style=background-color:#cfd4ff>than</text></font>&nbsp;&nbsp;<font size='3'><text style=background-color:#d7dbff>her</text></font>&nbsp;&nbsp;<font size='3'><text style=background-color:#d8dcff>father</text></font>&nbsp;&nbsp;<font size='3'><text style=background-color:#d6daff>when</text></font>&nbsp;&nbsp;<font size='3'><text style=background-color:#d1d6ff>the</text></font>&nbsp;&nbsp;<font size='3'><text style=background-color:#c9cfff>moti</text></font>&nbsp;&nbsp;<font size='3'><text style=background-color:#cfd4ff>attacked</text></font>&nbsp;&nbsp;<font size='3'><text style=background-color:#d2d6ff>the</text></font>&nbsp;&nbsp;<font size='3'><text style=background-color:#d0d4ff>ship</text></font>&nbsp;&nbsp;<font size='3'><text style=background-color:#cfd4ff>a</text></font>&nbsp;&nbsp;<font size='3'><text style=background-color:#cad0ff>second</text></font>&nbsp;&nbsp;<font size='3'><text style=background-color:#c9ceff>time</text></font></td></tr><tr style=\"background-color:white\"><td style=\"text-align:left\"><font size='3'><text style=background-color:#ff8181>&nbsp;&nbsp;&nbsp;&nbsp;&nbsp;</text></font>&nbsp;&nbsp;<font size='3'><text style=background-color:#4b5dff>yet</text></font>&nbsp;&nbsp;<font size='3'><text style=background-color:#8d98ff>,</text></font>&nbsp;&nbsp;<font size='3'><text style=background-color:#a9b2ff>the</text></font>&nbsp;&nbsp;<font size='3'><text style=background-color:#adb5ff>best</text></font>&nbsp;&nbsp;<font size='3'><text style=background-color:#b5bcff>of</text></font>&nbsp;&nbsp;<font size='3'><text style=background-color:#abb3ff>the</text></font>&nbsp;&nbsp;<font size='3'><text style=background-color:#939eff>bunch</text></font>&nbsp;&nbsp;<font size='3'><text style=background-color:#ced3ff>,</text></font>&nbsp;&nbsp;<font size='3'><text style=background-color:#dbdeff>for</text></font>&nbsp;&nbsp;<font size='3'><text style=background-color:#d4d9ff>its</text></font>&nbsp;&nbsp;<font size='3'><text style=background-color:#d9ddff>literacy</text></font>&nbsp;&nbsp;<font size='3'><text style=background-color:#d8dcff>and</text></font>&nbsp;&nbsp;<font size='3'><text style=background-color:#cdd2ff>production</text></font>&nbsp;&nbsp;<font size='3'><text style=background-color:#d6daff>values</text></font>&nbsp;&nbsp;<font size='3'><text style=background-color:#ced3ff>,</text></font>&nbsp;&nbsp;<font size='3'><text style=background-color:#ccd1ff>was</text></font>&nbsp;&nbsp;<font size='3'><text style=background-color:#d8dcff>undoubtedly</text></font>&nbsp;&nbsp;<font size='3'><text style=background-color:#e1e4ff>mgm</text></font>&nbsp;&nbsp;<font size='3'><text style=background-color:#e5e7ff>s</text></font>&nbsp;&nbsp;<font size='3'><text style=background-color:#e4e7ff>first</text></font>&nbsp;&nbsp;<font size='3'><text style=background-color:#e3e6ff>big</text></font>&nbsp;&nbsp;<font size='3'><text style=background-color:#e4e7ff>foray</text></font>&nbsp;&nbsp;<font size='3'><text style=background-color:#e1e4ff>into</text></font>&nbsp;&nbsp;<font size='3'><text style=background-color:#dbdfff>a</text></font>&nbsp;&nbsp;<font size='3'><text style=background-color:#d1d6ff>level</text></font>&nbsp;&nbsp;<font size='3'><text style=background-color:#c4caff>science</text></font>&nbsp;&nbsp;<font size='3'><text style=background-color:#aab3ff>fiction</text></font>&nbsp;&nbsp;<font size='3'><text style=background-color:#a6afff>,</text></font>&nbsp;&nbsp;<font size='3'><text style=background-color:#aeb6ff>forbidden</text></font>&nbsp;&nbsp;<font size='3'><text style=background-color:#b4bcff>planet</text></font>&nbsp;&nbsp;<font size='3'><text style=background-color:#b4bbff>,</text></font>&nbsp;&nbsp;<font size='3'><text style=background-color:#bbc2ff>released</text></font>&nbsp;&nbsp;<font size='3'><text style=background-color:#cacfff>in</text></font></td></tr><tr style=\"background-color:white\"><td style=\"text-align:left\"><font size='3'><text style=background-color:#ff8888>&nbsp;&nbsp;&nbsp;&nbsp;&nbsp;</text></font>&nbsp;&nbsp;<font size='3'><text style=background-color:#b4bcff>br</text></font>&nbsp;&nbsp;<font size='3'><text style=background-color:#b5bcff>br</text></font>&nbsp;&nbsp;<font size='3'><text style=background-color:#afb7ff>the</text></font>&nbsp;&nbsp;<font size='3'><text style=background-color:#818dff>tale</text></font>&nbsp;&nbsp;<font size='3'><text style=background-color:#8a96ff>is</text></font>&nbsp;&nbsp;<font size='3'><text style=background-color:#919cff>simple</text></font>&nbsp;&nbsp;<font size='3'><text style=background-color:#96a0ff>,</text></font>&nbsp;&nbsp;<font size='3'><text style=background-color:#a3acff>but</text></font>&nbsp;&nbsp;<font size='3'><text style=background-color:#bcc3ff>elegantly</text></font>&nbsp;&nbsp;<font size='3'><text style=background-color:#bbc2ff>constructed</text></font>&nbsp;&nbsp;<font size='3'><text style=background-color:#b9c0ff>,</text></font>&nbsp;&nbsp;<font size='3'><text style=background-color:#b9c0ff>and</text></font>&nbsp;&nbsp;<font size='3'><text style=background-color:#bec4ff>filled</text></font>&nbsp;&nbsp;<font size='3'><text style=background-color:#d4d8ff>with</text></font>&nbsp;&nbsp;<font size='3'><text style=background-color:#daddff>humorous</text></font>&nbsp;&nbsp;<font size='3'><text style=background-color:#dfe2ff>asides</text></font>&nbsp;&nbsp;<font size='3'><text style=background-color:#dfe2ff>that</text></font>&nbsp;&nbsp;<font size='3'><text style=background-color:#dfe2ff>leaven</text></font>&nbsp;&nbsp;<font size='3'><text style=background-color:#dcdfff>the</text></font>&nbsp;&nbsp;<font size='3'><text style=background-color:#d2d7ff>forced</text></font>&nbsp;&nbsp;<font size='3'><text style=background-color:#d1d5ff>love</text></font>&nbsp;&nbsp;<font size='3'><text style=background-color:#bbc2ff>story</text></font>&nbsp;&nbsp;<font size='3'><text style=background-color:#9fa9ff>aspect</text></font>&nbsp;&nbsp;<font size='3'><text style=background-color:#a9b1ff>in</text></font>&nbsp;&nbsp;<font size='3'><text style=background-color:#a5aeff>the</text></font>&nbsp;&nbsp;<font size='3'><text style=background-color:#6d7bff>film</text></font></td></tr><tr style=\"background-color:white\"><td style=\"text-align:left\"><font size='3'><text style=background-color:#ff8c8c>&nbsp;&nbsp;&nbsp;&nbsp;&nbsp;</text></font>&nbsp;&nbsp;<font size='3'><text style=background-color:#bfc5ff>in</text></font>&nbsp;&nbsp;<font size='3'><text style=background-color:#bbc2ff>the</text></font>&nbsp;&nbsp;<font size='3'><text style=background-color:#c1c7ff>rd</text></font>&nbsp;&nbsp;<font size='3'><text style=background-color:#bdc3ff>century</text></font>&nbsp;&nbsp;<font size='3'><text style=background-color:#b4bbff>,</text></font>&nbsp;&nbsp;<font size='3'><text style=background-color:#b4bcff>the</text></font>&nbsp;&nbsp;<font size='3'><text style=background-color:#b8bfff>united</text></font>&nbsp;&nbsp;<font size='3'><text style=background-color:#b5bdff>planets</text></font>&nbsp;&nbsp;<font size='3'><text style=background-color:#afb7ff>cruiser</text></font>&nbsp;&nbsp;<font size='3'><text style=background-color:#b4bbff>c</text></font>&nbsp;&nbsp;<font size='3'><text style=background-color:#bfc5ff>d</text></font>&nbsp;&nbsp;<font size='3'><text style=background-color:#c5caff>a</text></font>&nbsp;&nbsp;<font size='3'><text style=background-color:#c1c7ff>flying</text></font>&nbsp;&nbsp;<font size='3'><text style=background-color:#c5caff>saucer</text></font>&nbsp;&nbsp;<font size='3'><text style=background-color:#b7beff>,</text></font>&nbsp;&nbsp;<font size='3'><text style=background-color:#bcc2ff>led</text></font>&nbsp;&nbsp;<font size='3'><text style=background-color:#c2c8ff>by</text></font>&nbsp;&nbsp;<font size='3'><text style=background-color:#c1c7ff>commander</text></font>&nbsp;&nbsp;<font size='3'><text style=background-color:#b5bdff>j</text></font></td></tr><tr style=\"background-color:white\"><td style=\"text-align:left\"><font size='3'><text style=background-color:#ff8d8d>&nbsp;&nbsp;&nbsp;&nbsp;&nbsp;</text></font>&nbsp;&nbsp;<font size='3'><text style=background-color:#eceeff>later</text></font>&nbsp;&nbsp;<font size='3'><text style=background-color:#eaecff>he</text></font>&nbsp;&nbsp;<font size='3'><text style=background-color:#ebedff>would</text></font>&nbsp;&nbsp;<font size='3'><text style=background-color:#eaecff>appear</text></font>&nbsp;&nbsp;<font size='3'><text style=background-color:#eaecff>in</text></font>&nbsp;&nbsp;<font size='3'><text style=background-color:#e5e7ff>the</text></font>&nbsp;&nbsp;<font size='3'><text style=background-color:#d4d8ff>film</text></font>&nbsp;&nbsp;<font size='3'><text style=background-color:#d7dbff>the</text></font>&nbsp;&nbsp;<font size='3'><text style=background-color:#cfd4ff>invisible</text></font>&nbsp;&nbsp;<font size='3'><text style=background-color:#d8dcff>boy</text></font>&nbsp;&nbsp;<font size='3'><text style=background-color:#d9ddff>included</text></font>&nbsp;&nbsp;<font size='3'><text style=background-color:#dce0ff>in</text></font>&nbsp;&nbsp;<font size='3'><text style=background-color:#c8cdff>this</text></font>&nbsp;&nbsp;<font size='3'><text style=background-color:#d5d9ff>dvd</text></font>&nbsp;&nbsp;<font size='3'><text style=background-color:#d1d5ff>as</text></font>&nbsp;&nbsp;<font size='3'><text style=background-color:#d0d4ff>a</text></font>&nbsp;&nbsp;<font size='3'><text style=background-color:#d3d8ff>bonus</text></font>&nbsp;&nbsp;<font size='3'><text style=background-color:#d6daff>,</text></font>&nbsp;&nbsp;<font size='3'><text style=background-color:#d7dbff>as</text></font>&nbsp;&nbsp;<font size='3'><text style=background-color:#cdd2ff>well</text></font>&nbsp;&nbsp;<font size='3'><text style=background-color:#d1d6ff>as</text></font>&nbsp;&nbsp;<font size='3'><text style=background-color:#dcdfff>several</text></font>&nbsp;&nbsp;<font size='3'><text style=background-color:#e3e5ff>appearances</text></font>&nbsp;&nbsp;<font size='3'><text style=background-color:#e7e9ff>in</text></font>&nbsp;&nbsp;<font size='3'><text style=background-color:#e5e7ff>the</text></font>&nbsp;&nbsp;<font size='3'><text style=background-color:#e2e4ff>s</text></font>&nbsp;&nbsp;<font size='3'><text style=background-color:#d6daff>sci</text></font>&nbsp;&nbsp;<font size='3'><text style=background-color:#ced3ff>fi</text></font>&nbsp;&nbsp;<font size='3'><text style=background-color:#c2c8ff>tv</text></font>&nbsp;&nbsp;<font size='3'><text style=background-color:#c0c6ff>shows</text></font>&nbsp;&nbsp;<font size='3'><text style=background-color:#c3c9ff>the</text></font>&nbsp;&nbsp;<font size='3'><text style=background-color:#cdd2ff>twilight</text></font>&nbsp;&nbsp;<font size='3'><text style=background-color:#d9dcff>zone</text></font>&nbsp;&nbsp;<font size='3'><text style=background-color:#d7dbff>,</text></font>&nbsp;&nbsp;<font size='3'><text style=background-color:#dde0ff>night</text></font>&nbsp;&nbsp;<font size='3'><text style=background-color:#e2e5ff>gallery</text></font>&nbsp;&nbsp;<font size='3'><text style=background-color:#dde0ff>,</text></font>&nbsp;&nbsp;<font size='3'><text style=background-color:#d8dcff>and</text></font>&nbsp;&nbsp;<font size='3'><text style=background-color:#e1e4ff>lost</text></font>&nbsp;&nbsp;<font size='3'><text style=background-color:#e9ebff>in</text></font>&nbsp;&nbsp;<font size='3'><text style=background-color:#eceeff>space</text></font>&nbsp;&nbsp;<font size='3'><text style=background-color:#edeeff>with</text></font>&nbsp;&nbsp;<font size='3'><text style=background-color:#edefff>whose</text></font>&nbsp;&nbsp;<font size='3'><text style=background-color:#edefff>own</text></font>&nbsp;&nbsp;<font size='3'><text style=background-color:#edefff>robot</text></font>&nbsp;&nbsp;<font size='3'><text style=background-color:#e8eaff>he</text></font>&nbsp;&nbsp;<font size='3'><text style=background-color:#c6cbff>is</text></font>&nbsp;&nbsp;<font size='3'><text style=background-color:#cfd4ff>often</text></font>&nbsp;&nbsp;<font size='3'><text style=background-color:#bfc5ff>confused</text></font>&nbsp;&nbsp;<font size='3'><text style=background-color:#d2d7ff>,</text></font>&nbsp;&nbsp;<font size='3'><text style=background-color:#d2d7ff>and</text></font>&nbsp;&nbsp;<font size='3'><text style=background-color:#d1d6ff>a</text></font>&nbsp;&nbsp;<font size='3'><text style=background-color:#cdd2ff>cameo</text></font>&nbsp;&nbsp;<font size='3'><text style=background-color:#c6ccff>appearance</text></font>&nbsp;&nbsp;<font size='3'><text style=background-color:#dcdfff>in</text></font>&nbsp;&nbsp;<font size='3'><text style=background-color:#e1e4ff>the</text></font>&nbsp;&nbsp;<font size='3'><text style=background-color:#c3c9ff>film</text></font>&nbsp;&nbsp;<font size='3'><text style=background-color:#b6beff>gremlins</text></font></td></tr><tr style=\"background-color:white\"><td style=\"text-align:left\"><font size='3'><text style=background-color:#ff8e8e>&nbsp;&nbsp;&nbsp;&nbsp;&nbsp;</text></font>&nbsp;&nbsp;<font size='3'><text style=background-color:#7683ff>j</text></font></td></tr><tr style=\"background-color:white\"><td style=\"text-align:left\"><font size='3'><text style=background-color:#ff9191>&nbsp;&nbsp;&nbsp;&nbsp;&nbsp;</text></font>&nbsp;&nbsp;<font size='3'><text style=background-color:#293eff>it</text></font>&nbsp;&nbsp;<font size='3'><text style=background-color:#7c89ff>was</text></font>&nbsp;&nbsp;<font size='3'><text style=background-color:#9ca5ff>a</text></font>&nbsp;&nbsp;<font size='3'><text style=background-color:#9fa8ff>minute</text></font>&nbsp;&nbsp;<font size='3'><text style=background-color:#a0aaff>color</text></font>&nbsp;&nbsp;<font size='3'><text style=background-color:#7583ff>film</text></font>&nbsp;&nbsp;<font size='3'><text style=background-color:#7280ff>,</text></font>&nbsp;&nbsp;<font size='3'><text style=background-color:#596aff>directed</text></font>&nbsp;&nbsp;<font size='3'><text style=background-color:#7582ff>by</text></font>&nbsp;&nbsp;<font size='3'><text style=background-color:#8a96ff>fred</text></font>&nbsp;&nbsp;<font size='3'><text style=background-color:#a9b2ff>m</text></font></td></tr><tr style=\"background-color:white\"><td style=\"text-align:left\"><font size='3'><text style=background-color:#ff9797>&nbsp;&nbsp;&nbsp;&nbsp;&nbsp;</text></font>&nbsp;&nbsp;<font size='3'><text style=background-color:#e8eaff>br</text></font>&nbsp;&nbsp;<font size='3'><text style=background-color:#eceeff>br</text></font>&nbsp;&nbsp;<font size='3'><text style=background-color:#ebedff>the</text></font>&nbsp;&nbsp;<font size='3'><text style=background-color:#d9dcff>film</text></font>&nbsp;&nbsp;<font size='3'><text style=background-color:#dbdfff>drew</text></font>&nbsp;&nbsp;<font size='3'><text style=background-color:#e1e4ff>raves</text></font>&nbsp;&nbsp;<font size='3'><text style=background-color:#e6e9ff>when</text></font>&nbsp;&nbsp;<font size='3'><text style=background-color:#dfe2ff>it</text></font>&nbsp;&nbsp;<font size='3'><text style=background-color:#e4e7ff>was</text></font>&nbsp;&nbsp;<font size='3'><text style=background-color:#e5e8ff>released</text></font>&nbsp;&nbsp;<font size='3'><text style=background-color:#e0e3ff>,</text></font>&nbsp;&nbsp;<font size='3'><text style=background-color:#e2e5ff>for</text></font>&nbsp;&nbsp;<font size='3'><text style=background-color:#d1d6ff>its</text></font>&nbsp;&nbsp;<font size='3'><text style=background-color:#d7dbff>oscar</text></font>&nbsp;&nbsp;<font size='3'><text style=background-color:#d5d9ff>nominated</text></font>&nbsp;&nbsp;<font size='3'><text style=background-color:#d8dcff>special</text></font>&nbsp;&nbsp;<font size='3'><text style=background-color:#d8dcff>effects</text></font>&nbsp;&nbsp;<font size='3'><text style=background-color:#d3d7ff>,</text></font>&nbsp;&nbsp;<font size='3'><text style=background-color:#c9ceff>its</text></font>&nbsp;&nbsp;<font size='3'><text style=background-color:#d6daff>all</text></font>&nbsp;&nbsp;<font size='3'><text style=background-color:#dde1ff>electronic</text></font>&nbsp;&nbsp;<font size='3'><text style=background-color:#dee1ff>music</text></font>&nbsp;&nbsp;<font size='3'><text style=background-color:#ccd1ff>score</text></font>&nbsp;&nbsp;<font size='3'><text style=background-color:#d8dcff>,</text></font>&nbsp;&nbsp;<font size='3'><text style=background-color:#e0e3ff>by</text></font>&nbsp;&nbsp;<font size='3'><text style=background-color:#e5e7ff>louis</text></font>&nbsp;&nbsp;<font size='3'><text style=background-color:#e5e8ff>and</text></font>&nbsp;&nbsp;<font size='3'><text style=background-color:#e9ebff>bebe</text></font>&nbsp;&nbsp;<font size='3'><text style=background-color:#edefff>barron</text></font>&nbsp;&nbsp;<font size='3'><text style=background-color:#f2f3ff>(</text></font>&nbsp;&nbsp;<font size='3'><text style=background-color:#f3f5ff>although</text></font>&nbsp;&nbsp;<font size='3'><text style=background-color:#f3f4ff>credited</text></font>&nbsp;&nbsp;<font size='3'><text style=background-color:#f0f1ff>as</text></font>&nbsp;&nbsp;<font size='3'><text style=background-color:#ebedff>electronic</text></font>&nbsp;&nbsp;<font size='3'><text style=background-color:#d9ddff>tonalities</text></font>&nbsp;&nbsp;<font size='3'><text style=background-color:#c5cbff>,</text></font>&nbsp;&nbsp;<font size='3'><text style=background-color:#d3d7ff>to</text></font>&nbsp;&nbsp;<font size='3'><text style=background-color:#a0a9ff>avoid</text></font>&nbsp;&nbsp;<font size='3'><text style=background-color:#eaecff>music</text></font>&nbsp;&nbsp;<font size='3'><text style=background-color:#f1f2ff>guild</text></font>&nbsp;&nbsp;<font size='3'><text style=background-color:#f4f5ff>fees</text></font>&nbsp;&nbsp;<font size='3'><text style=background-color:#f5f6ff>)</text></font>&nbsp;&nbsp;<font size='3'><text style=background-color:#f3f4ff>,</text></font>&nbsp;&nbsp;<font size='3'><text style=background-color:#f2f3ff>vivid</text></font>&nbsp;&nbsp;<font size='3'><text style=background-color:#f2f3ff>matte</text></font>&nbsp;&nbsp;<font size='3'><text style=background-color:#f2f3ff>paintings</text></font>&nbsp;&nbsp;<font size='3'><text style=background-color:#e6e8ff>inspired</text></font>&nbsp;&nbsp;<font size='3'><text style=background-color:#eaecff>by</text></font>&nbsp;&nbsp;<font size='3'><text style=background-color:#ebedff>chesley</text></font>&nbsp;&nbsp;<font size='3'><text style=background-color:#eef0ff>bonestell</text></font>&nbsp;&nbsp;<font size='3'><text style=background-color:#e4e7ff>,</text></font>&nbsp;&nbsp;<font size='3'><text style=background-color:#d9ddff>and</text></font>&nbsp;&nbsp;<font size='3'><text style=background-color:#d4d8ff>the</text></font>&nbsp;&nbsp;<font size='3'><text style=background-color:#d2d6ff>famed</text></font>&nbsp;&nbsp;<font size='3'><text style=background-color:#d2d6ff>monster</text></font>&nbsp;&nbsp;<font size='3'><text style=background-color:#dbdeff>of</text></font>&nbsp;&nbsp;<font size='3'><text style=background-color:#dde0ff>the</text></font>&nbsp;&nbsp;<font size='3'><text style=background-color:#e4e6ff>id</text></font>&nbsp;&nbsp;<font size='3'><text style=background-color:#eff1ff>(</text></font>&nbsp;&nbsp;<font size='3'><text style=background-color:#f2f3ff>moti</text></font>&nbsp;&nbsp;<font size='3'><text style=background-color:#f3f4ff>)</text></font>&nbsp;&nbsp;<font size='3'><text style=background-color:#edefff>,</text></font>&nbsp;&nbsp;<font size='3'><text style=background-color:#e3e6ff>which</text></font>&nbsp;&nbsp;<font size='3'><text style=background-color:#d6daff>was</text></font>&nbsp;&nbsp;<font size='3'><text style=background-color:#c5caff>animated</text></font>&nbsp;&nbsp;<font size='3'><text style=background-color:#d7dbff>by</text></font>&nbsp;&nbsp;<font size='3'><text style=background-color:#e2e5ff>an</text></font>&nbsp;&nbsp;<font size='3'><text style=background-color:#e8eaff>animator</text></font>&nbsp;&nbsp;<font size='3'><text style=background-color:#dde0ff>,</text></font>&nbsp;&nbsp;<font size='3'><text style=background-color:#d7dbff>joshua</text></font>&nbsp;&nbsp;<font size='3'><text style=background-color:#dcdfff>meador</text></font>&nbsp;&nbsp;<font size='3'><text style=background-color:#d2d7ff>,</text></font>&nbsp;&nbsp;<font size='3'><text style=background-color:#d1d6ff>on</text></font>&nbsp;&nbsp;<font size='3'><text style=background-color:#e3e6ff>loan</text></font>&nbsp;&nbsp;<font size='3'><text style=background-color:#eaecff>from</text></font>&nbsp;&nbsp;<font size='3'><text style=background-color:#ebedff>the</text></font>&nbsp;&nbsp;<font size='3'><text style=background-color:#eaecff>walt</text></font>&nbsp;&nbsp;<font size='3'><text style=background-color:#eceeff>disney</text></font>&nbsp;&nbsp;<font size='3'><text style=background-color:#eff1ff>studio</text></font></td></tr><tr style=\"background-color:white\"><td style=\"text-align:left\"><font size='3'><text style=background-color:#ff9b9b>&nbsp;&nbsp;&nbsp;&nbsp;&nbsp;</text></font>&nbsp;&nbsp;<font size='3'><text style=background-color:#c9ceff>even</text></font>&nbsp;&nbsp;<font size='3'><text style=background-color:#d8dcff>more</text></font>&nbsp;&nbsp;<font size='3'><text style=background-color:#cdd2ff>famous</text></font>&nbsp;&nbsp;<font size='3'><text style=background-color:#cbd0ff>was</text></font>&nbsp;&nbsp;<font size='3'><text style=background-color:#c6ccff>the</text></font>&nbsp;&nbsp;<font size='3'><text style=background-color:#b7beff>appearance</text></font>&nbsp;&nbsp;<font size='3'><text style=background-color:#bcc3ff>of</text></font>&nbsp;&nbsp;<font size='3'><text style=background-color:#c1c7ff>robby</text></font>&nbsp;&nbsp;<font size='3'><text style=background-color:#c2c8ff>the</text></font>&nbsp;&nbsp;<font size='3'><text style=background-color:#c4c9ff>robot</text></font>&nbsp;&nbsp;<font size='3'><text style=background-color:#bac1ff>,</text></font>&nbsp;&nbsp;<font size='3'><text style=background-color:#c5caff>in</text></font>&nbsp;&nbsp;<font size='3'><text style=background-color:#c4caff>his</text></font>&nbsp;&nbsp;<font size='3'><text style=background-color:#bec4ff>first</text></font>&nbsp;&nbsp;<font size='3'><text style=background-color:#b0b7ff>role</text></font>&nbsp;&nbsp;<font size='3'><text style=background-color:#aab3ff>in</text></font>&nbsp;&nbsp;<font size='3'><text style=background-color:#a6aeff>either</text></font>&nbsp;&nbsp;<font size='3'><text style=background-color:#8692ff>film</text></font>&nbsp;&nbsp;<font size='3'><text style=background-color:#a0aaff>or</text></font>&nbsp;&nbsp;<font size='3'><text style=background-color:#a4adff>television</text></font></td></tr><tr style=\"background-color:white\"><td style=\"text-align:left\"><font size='3'><text style=background-color:#ff9e9e>&nbsp;&nbsp;&nbsp;&nbsp;&nbsp;</text></font>&nbsp;&nbsp;<font size='3'><text style=background-color:#dadeff>wilcox</text></font>&nbsp;&nbsp;<font size='3'><text style=background-color:#d7dbff>,</text></font>&nbsp;&nbsp;<font size='3'><text style=background-color:#dbdfff>that</text></font>&nbsp;&nbsp;<font size='3'><text style=background-color:#d9ddff>featured</text></font>&nbsp;&nbsp;<font size='3'><text style=background-color:#dee1ff>then</text></font>&nbsp;&nbsp;<font size='3'><text style=background-color:#e1e4ff>state</text></font>&nbsp;&nbsp;<font size='3'><text style=background-color:#dcdfff>of</text></font>&nbsp;&nbsp;<font size='3'><text style=background-color:#d8dbff>the</text></font>&nbsp;&nbsp;<font size='3'><text style=background-color:#cbd0ff>art</text></font>&nbsp;&nbsp;<font size='3'><text style=background-color:#c5cbff>special</text></font>&nbsp;&nbsp;<font size='3'><text style=background-color:#b8bfff>effects</text></font>&nbsp;&nbsp;<font size='3'><text style=background-color:#b3baff>,</text></font>&nbsp;&nbsp;<font size='3'><text style=background-color:#b9c0ff>and</text></font>&nbsp;&nbsp;<font size='3'><text style=background-color:#c1c7ff>was</text></font>&nbsp;&nbsp;<font size='3'><text style=background-color:#cacfff>endowed</text></font>&nbsp;&nbsp;<font size='3'><text style=background-color:#cbd0ff>with</text></font>&nbsp;&nbsp;<font size='3'><text style=background-color:#c6ccff>a</text></font>&nbsp;&nbsp;<font size='3'><text style=background-color:#c7cdff>very</text></font>&nbsp;&nbsp;<font size='3'><text style=background-color:#c5caff>good</text></font>&nbsp;&nbsp;<font size='3'><text style=background-color:#d0d5ff>screenplay</text></font>&nbsp;&nbsp;<font size='3'><text style=background-color:#dee1ff>by</text></font>&nbsp;&nbsp;<font size='3'><text style=background-color:#e2e5ff>cyril</text></font>&nbsp;&nbsp;<font size='3'><text style=background-color:#e5e7ff>hume</text></font>&nbsp;&nbsp;<font size='3'><text style=background-color:#dcdfff>,</text></font>&nbsp;&nbsp;<font size='3'><text style=background-color:#d7dbff>from</text></font>&nbsp;&nbsp;<font size='3'><text style=background-color:#d0d5ff>a</text></font>&nbsp;&nbsp;<font size='3'><text style=background-color:#b5bcff>screen</text></font>&nbsp;&nbsp;<font size='3'><text style=background-color:#bcc3ff>treatment</text></font>&nbsp;&nbsp;<font size='3'><text style=background-color:#d3d7ff>called</text></font>&nbsp;&nbsp;<font size='3'><text style=background-color:#dfe2ff>fatal</text></font>&nbsp;&nbsp;<font size='3'><text style=background-color:#e4e7ff>planet</text></font>&nbsp;&nbsp;<font size='3'><text style=background-color:#dbdfff>,</text></font>&nbsp;&nbsp;<font size='3'><text style=background-color:#d8dcff>by</text></font>&nbsp;&nbsp;<font size='3'><text style=background-color:#d6daff>irving</text></font>&nbsp;&nbsp;<font size='3'><text style=background-color:#d4d8ff>block</text></font>&nbsp;&nbsp;<font size='3'><text style=background-color:#dbdfff>and</text></font>&nbsp;&nbsp;<font size='3'><text style=background-color:#dbdeff>allen</text></font>&nbsp;&nbsp;<font size='3'><text style=background-color:#e0e3ff>adler</text></font>&nbsp;&nbsp;<font size='3'><text style=background-color:#d9dcff>,</text></font>&nbsp;&nbsp;<font size='3'><text style=background-color:#e1e4ff>who</text></font>&nbsp;&nbsp;<font size='3'><text style=background-color:#e6e9ff>adapted</text></font>&nbsp;&nbsp;<font size='3'><text style=background-color:#e3e6ff>aspects</text></font>&nbsp;&nbsp;<font size='3'><text style=background-color:#dcdfff>of</text></font>&nbsp;&nbsp;<font size='3'><text style=background-color:#d9ddff>william</text></font>&nbsp;&nbsp;<font size='3'><text style=background-color:#dde0ff>shakespeare</text></font>&nbsp;&nbsp;<font size='3'><text style=background-color:#dce0ff>s</text></font>&nbsp;&nbsp;<font size='3'><text style=background-color:#dbdfff>the</text></font>&nbsp;&nbsp;<font size='3'><text style=background-color:#dbdfff>tempest</text></font>&nbsp;&nbsp;<font size='3'><text style=background-color:#dbdfff>into</text></font>&nbsp;&nbsp;<font size='3'><text style=background-color:#b6bdff>it</text></font></td></tr><tr style=\"background-color:white\"><td style=\"text-align:left\"><font size='3'><text style=background-color:#ffa6a6>&nbsp;&nbsp;&nbsp;&nbsp;&nbsp;</text></font>&nbsp;&nbsp;<font size='3'><text style=background-color:#6b79ff>yet</text></font>&nbsp;&nbsp;<font size='3'><text style=background-color:#a1aaff>,</text></font>&nbsp;&nbsp;<font size='3'><text style=background-color:#9ea8ff>it</text></font>&nbsp;&nbsp;<font size='3'><text style=background-color:#b7beff>s</text></font>&nbsp;&nbsp;<font size='3'><text style=background-color:#c0c6ff>manifest</text></font>&nbsp;&nbsp;<font size='3'><text style=background-color:#c6ccff>that</text></font>&nbsp;&nbsp;<font size='3'><text style=background-color:#bbc2ff>the</text></font>&nbsp;&nbsp;<font size='3'><text style=background-color:#b5bcff>filmmakers</text></font>&nbsp;&nbsp;<font size='3'><text style=background-color:#c6ccff>had</text></font>&nbsp;&nbsp;<font size='3'><text style=background-color:#c6ccff>no</text></font>&nbsp;&nbsp;<font size='3'><text style=background-color:#e6e9ff>sense</text></font>&nbsp;&nbsp;<font size='3'><text style=background-color:#e3e6ff>of</text></font>&nbsp;&nbsp;<font size='3'><text style=background-color:#e0e3ff>the</text></font>&nbsp;&nbsp;<font size='3'><text style=background-color:#dce0ff>sublime</text></font>&nbsp;&nbsp;<font size='3'><text style=background-color:#dce0ff>absurdity</text></font>&nbsp;&nbsp;<font size='3'><text style=background-color:#d8dcff>the</text></font>&nbsp;&nbsp;<font size='3'><text style=background-color:#b3baff>film</text></font>&nbsp;&nbsp;<font size='3'><text style=background-color:#b2baff>conjures</text></font>&nbsp;&nbsp;<font size='3'><text style=background-color:#acb4ff>,</text></font>&nbsp;&nbsp;<font size='3'><text style=background-color:#c4caff>for</text></font>&nbsp;&nbsp;<font size='3'><text style=background-color:#bbc2ff>it</text></font>&nbsp;&nbsp;<font size='3'><text style=background-color:#c4caff>s</text></font>&nbsp;&nbsp;<font size='3'><text style=background-color:#cfd4ff>played</text></font>&nbsp;&nbsp;<font size='3'><text style=background-color:#c5cbff>straight</text></font>&nbsp;&nbsp;<font size='3'><text style=background-color:#bec4ff>,</text></font>&nbsp;&nbsp;<font size='3'><text style=background-color:#b5bdff>thus</text></font>&nbsp;&nbsp;<font size='3'><text style=background-color:#c4caff>making</text></font>&nbsp;&nbsp;<font size='3'><text style=background-color:#b0b7ff>it</text></font>&nbsp;&nbsp;<font size='3'><text style=background-color:#b9c0ff>even</text></font>&nbsp;&nbsp;<font size='3'><text style=background-color:#b9c0ff>funnier</text></font></td></tr><tr style=\"background-color:white\"><td style=\"text-align:left\"><font size='3'><text style=background-color:#ffabab>&nbsp;&nbsp;&nbsp;&nbsp;&nbsp;</text></font>&nbsp;&nbsp;<font size='3'><text style=background-color:#cfd4ff>adams</text></font>&nbsp;&nbsp;<font size='3'><text style=background-color:#dbdfff>(</text></font>&nbsp;&nbsp;<font size='3'><text style=background-color:#d2d6ff>leslie</text></font>&nbsp;&nbsp;<font size='3'><text style=background-color:#d1d6ff>nielsen</text></font>&nbsp;&nbsp;<font size='3'><text style=background-color:#c5cbff>yes</text></font>&nbsp;&nbsp;<font size='3'><text style=background-color:#d7dbff>he</text></font>&nbsp;&nbsp;<font size='3'><text style=background-color:#d7dbff>was</text></font>&nbsp;&nbsp;<font size='3'><text style=background-color:#dbdfff>once</text></font>&nbsp;&nbsp;<font size='3'><text style=background-color:#dee1ff>a</text></font>&nbsp;&nbsp;<font size='3'><text style=background-color:#dfe2ff>leading</text></font>&nbsp;&nbsp;<font size='3'><text style=background-color:#dbdeff>man</text></font>&nbsp;&nbsp;<font size='3'><text style=background-color:#dfe2ff>type</text></font>&nbsp;&nbsp;<font size='3'><text style=background-color:#e4e7ff>before</text></font>&nbsp;&nbsp;<font size='3'><text style=background-color:#e0e3ff>his</text></font>&nbsp;&nbsp;<font size='3'><text style=background-color:#e0e3ff>police</text></font>&nbsp;&nbsp;<font size='3'><text style=background-color:#e0e3ff>squad</text></font>&nbsp;&nbsp;<font size='3'><text style=background-color:#e3e5ff>days</text></font>&nbsp;&nbsp;<font size='3'><text style=background-color:#e4e6ff>)</text></font>&nbsp;&nbsp;<font size='3'><text style=background-color:#dee1ff>,</text></font>&nbsp;&nbsp;<font size='3'><text style=background-color:#ccd1ff>is</text></font>&nbsp;&nbsp;<font size='3'><text style=background-color:#d0d5ff>en</text></font>&nbsp;&nbsp;<font size='3'><text style=background-color:#d8dcff>route</text></font>&nbsp;&nbsp;<font size='3'><text style=background-color:#e1e4ff>to</text></font>&nbsp;&nbsp;<font size='3'><text style=background-color:#dee1ff>the</text></font>&nbsp;&nbsp;<font size='3'><text style=background-color:#d6daff>planet</text></font>&nbsp;&nbsp;<font size='3'><text style=background-color:#d0d5ff>altair</text></font>&nbsp;&nbsp;<font size='3'><text style=background-color:#d3d7ff>iv</text></font>&nbsp;&nbsp;<font size='3'><text style=background-color:#c9ceff>,</text></font>&nbsp;&nbsp;<font size='3'><text style=background-color:#ced3ff>to</text></font>&nbsp;&nbsp;<font size='3'><text style=background-color:#d5d9ff>investigate</text></font>&nbsp;&nbsp;<font size='3'><text style=background-color:#d4d8ff>what</text></font>&nbsp;&nbsp;<font size='3'><text style=background-color:#d5d9ff>happened</text></font>&nbsp;&nbsp;<font size='3'><text style=background-color:#d9ddff>to</text></font>&nbsp;&nbsp;<font size='3'><text style=background-color:#d7dbff>the</text></font>&nbsp;&nbsp;<font size='3'><text style=background-color:#d1d6ff>crew</text></font>&nbsp;&nbsp;<font size='3'><text style=background-color:#c6ccff>of</text></font>&nbsp;&nbsp;<font size='3'><text style=background-color:#bfc6ff>the</text></font>&nbsp;&nbsp;<font size='3'><text style=background-color:#c0c6ff>bellerophon</text></font>&nbsp;&nbsp;<font size='3'><text style=background-color:#b3baff>,</text></font>&nbsp;&nbsp;<font size='3'><text style=background-color:#c2c8ff>sent</text></font>&nbsp;&nbsp;<font size='3'><text style=background-color:#d0d5ff>to</text></font>&nbsp;&nbsp;<font size='3'><text style=background-color:#d2d7ff>the</text></font>&nbsp;&nbsp;<font size='3'><text style=background-color:#cdd2ff>planet</text></font>&nbsp;&nbsp;<font size='3'><text style=background-color:#cbd0ff>twenty</text></font>&nbsp;&nbsp;<font size='3'><text style=background-color:#d0d5ff>years</text></font>&nbsp;&nbsp;<font size='3'><text style=background-color:#d0d5ff>earlier</text></font></td></tr><tr style=\"background-color:white\"><td style=\"text-align:left\"><font size='3'><text style=background-color:#ffafaf>&nbsp;&nbsp;&nbsp;&nbsp;&nbsp;</text></font>&nbsp;&nbsp;<font size='3'><text style=background-color:#e5e7ff>after</text></font>&nbsp;&nbsp;<font size='3'><text style=background-color:#e5e7ff>a</text></font>&nbsp;&nbsp;<font size='3'><text style=background-color:#e7eaff>year</text></font>&nbsp;&nbsp;<font size='3'><text style=background-color:#e6e9ff>s</text></font>&nbsp;&nbsp;<font size='3'><text style=background-color:#e3e6ff>journey</text></font>&nbsp;&nbsp;<font size='3'><text style=background-color:#dbdfff>,</text></font>&nbsp;&nbsp;<font size='3'><text style=background-color:#dbdeff>there</text></font>&nbsp;&nbsp;<font size='3'><text style=background-color:#e5e8ff>they</text></font>&nbsp;&nbsp;<font size='3'><text style=background-color:#e9ebff>encounter</text></font>&nbsp;&nbsp;<font size='3'><text style=background-color:#e7e9ff>the</text></font>&nbsp;&nbsp;<font size='3'><text style=background-color:#e6e9ff>lone</text></font>&nbsp;&nbsp;<font size='3'><text style=background-color:#e7e9ff>survivor</text></font>&nbsp;&nbsp;<font size='3'><text style=background-color:#e4e6ff>of</text></font>&nbsp;&nbsp;<font size='3'><text style=background-color:#dfe3ff>the</text></font>&nbsp;&nbsp;<font size='3'><text style=background-color:#e2e5ff>party</text></font>&nbsp;&nbsp;<font size='3'><text style=background-color:#dee1ff>,</text></font>&nbsp;&nbsp;<font size='3'><text style=background-color:#e1e4ff>doctor</text></font>&nbsp;&nbsp;<font size='3'><text style=background-color:#e7e9ff>edward</text></font>&nbsp;&nbsp;<font size='3'><text style=background-color:#e9ebff>morbius</text></font>&nbsp;&nbsp;<font size='3'><text style=background-color:#ebedff>(</text></font>&nbsp;&nbsp;<font size='3'><text style=background-color:#ebedff>walter</text></font>&nbsp;&nbsp;<font size='3'><text style=background-color:#ebedff>pidgeon</text></font>&nbsp;&nbsp;<font size='3'><text style=background-color:#ebedff>)</text></font>&nbsp;&nbsp;<font size='3'><text style=background-color:#e3e6ff>,</text></font>&nbsp;&nbsp;<font size='3'><text style=background-color:#dbdfff>the</text></font>&nbsp;&nbsp;<font size='3'><text style=background-color:#d6daff>prospero</text></font>&nbsp;&nbsp;<font size='3'><text style=background-color:#dfe3ff>stand</text></font>&nbsp;&nbsp;<font size='3'><text style=background-color:#e6e8ff>in</text></font>&nbsp;&nbsp;<font size='3'><text style=background-color:#e4e7ff>a</text></font>&nbsp;&nbsp;<font size='3'><text style=background-color:#e4e6ff>philologist</text></font>&nbsp;&nbsp;<font size='3'><text style=background-color:#dce0ff>,</text></font>&nbsp;&nbsp;<font size='3'><text style=background-color:#d7dbff>his</text></font>&nbsp;&nbsp;<font size='3'><text style=background-color:#b2b9ff>gorgeous</text></font>&nbsp;&nbsp;<font size='3'><text style=background-color:#a2acff>blond</text></font>&nbsp;&nbsp;<font size='3'><text style=background-color:#c8cdff>daughter</text></font>&nbsp;&nbsp;<font size='3'><text style=background-color:#dbdeff>altaira</text></font>&nbsp;&nbsp;<font size='3'><text style=background-color:#e5e7ff>(</text></font>&nbsp;&nbsp;<font size='3'><text style=background-color:#e8eaff>anne</text></font>&nbsp;&nbsp;<font size='3'><text style=background-color:#e9ebff>francis</text></font>&nbsp;&nbsp;<font size='3'><text style=background-color:#eaecff>)</text></font>&nbsp;&nbsp;<font size='3'><text style=background-color:#e5e8ff>the</text></font>&nbsp;&nbsp;<font size='3'><text style=background-color:#e0e3ff>miranda</text></font>&nbsp;&nbsp;<font size='3'><text style=background-color:#c2c8ff>character</text></font>&nbsp;&nbsp;<font size='3'><text style=background-color:#ced3ff>in</text></font>&nbsp;&nbsp;<font size='3'><text style=background-color:#d0d4ff>a</text></font>&nbsp;&nbsp;<font size='3'><text style=background-color:#dadeff>pre</text></font>&nbsp;&nbsp;<font size='3'><text style=background-color:#e5e8ff>s</text></font>&nbsp;&nbsp;<font size='3'><text style=background-color:#e5e8ff>miniskirt</text></font>&nbsp;&nbsp;<font size='3'><text style=background-color:#d5d9ff>,</text></font>&nbsp;&nbsp;<font size='3'><text style=background-color:#c2c8ff>and</text></font>&nbsp;&nbsp;<font size='3'><text style=background-color:#bcc2ff>robby</text></font>&nbsp;&nbsp;<font size='3'><text style=background-color:#c2c8ff>the</text></font>&nbsp;&nbsp;<font size='3'><text style=background-color:#d2d7ff>robot</text></font>&nbsp;&nbsp;<font size='3'><text style=background-color:#cfd4ff>,</text></font>&nbsp;&nbsp;<font size='3'><text style=background-color:#cfd4ff>the</text></font>&nbsp;&nbsp;<font size='3'><text style=background-color:#d9dcff>domestic</text></font>&nbsp;&nbsp;<font size='3'><text style=background-color:#dce0ff>servant</text></font>&nbsp;&nbsp;<font size='3'><text style=background-color:#e2e5ff>who</text></font>&nbsp;&nbsp;<font size='3'><text style=background-color:#d6daff>is</text></font>&nbsp;&nbsp;<font size='3'><text style=background-color:#d1d6ff>the</text></font>&nbsp;&nbsp;<font size='3'><text style=background-color:#cad0ff>calibanian</text></font>&nbsp;&nbsp;<font size='3'><text style=background-color:#ccd1ff>counterpart</text></font></td></tr><tr style=\"background-color:white\"><td style=\"text-align:left\"><font size='3'><text style=background-color:#ffb7b7>&nbsp;&nbsp;&nbsp;&nbsp;&nbsp;</text></font>&nbsp;&nbsp;<font size='3'><text style=background-color:#cfd4ff>all</text></font>&nbsp;&nbsp;<font size='3'><text style=background-color:#d1d6ff>in</text></font>&nbsp;&nbsp;<font size='3'><text style=background-color:#c8cdff>all</text></font>&nbsp;&nbsp;<font size='3'><text style=background-color:#b8bfff>,</text></font>&nbsp;&nbsp;<font size='3'><text style=background-color:#a2acff>it</text></font>&nbsp;&nbsp;<font size='3'><text style=background-color:#b3bbff>s</text></font>&nbsp;&nbsp;<font size='3'><text style=background-color:#a3acff>a</text></font>&nbsp;&nbsp;<font size='3'><text style=background-color:#939eff>technically</text></font>&nbsp;&nbsp;<font size='3'><text style=background-color:#a6afff>good</text></font>&nbsp;&nbsp;<font size='3'><text style=background-color:#97a2ff>film</text></font>&nbsp;&nbsp;<font size='3'><text style=background-color:#a4adff>especially</text></font>&nbsp;&nbsp;<font size='3'><text style=background-color:#b4bbff>with</text></font>&nbsp;&nbsp;<font size='3'><text style=background-color:#cfd4ff>some</text></font>&nbsp;&nbsp;<font size='3'><text style=background-color:#d5d9ff>rear</text></font>&nbsp;&nbsp;<font size='3'><text style=background-color:#dcdfff>projections</text></font>&nbsp;&nbsp;<font size='3'><text style=background-color:#daddff>and</text></font>&nbsp;&nbsp;<font size='3'><text style=background-color:#dadeff>matte</text></font>&nbsp;&nbsp;<font size='3'><text style=background-color:#dde1ff>paintings</text></font>&nbsp;&nbsp;<font size='3'><text style=background-color:#d7dbff>,</text></font>&nbsp;&nbsp;<font size='3'><text style=background-color:#d6daff>and</text></font>&nbsp;&nbsp;<font size='3'><text style=background-color:#d2d7ff>the</text></font>&nbsp;&nbsp;<font size='3'><text style=background-color:#d4d8ff>absurdity</text></font>&nbsp;&nbsp;<font size='3'><text style=background-color:#d3d7ff>of</text></font>&nbsp;&nbsp;<font size='3'><text style=background-color:#d0d4ff>the</text></font>&nbsp;&nbsp;<font size='3'><text style=background-color:#daddff>adult</text></font>&nbsp;&nbsp;<font size='3'><text style=background-color:#e4e6ff>reactions</text></font>&nbsp;&nbsp;<font size='3'><text style=background-color:#e6e9ff>to</text></font>&nbsp;&nbsp;<font size='3'><text style=background-color:#e7eaff>timmy</text></font>&nbsp;&nbsp;<font size='3'><text style=background-color:#e5e8ff>s</text></font>&nbsp;&nbsp;<font size='3'><text style=background-color:#dfe2ff>and</text></font>&nbsp;&nbsp;<font size='3'><text style=background-color:#dde0ff>robby</text></font>&nbsp;&nbsp;<font size='3'><text style=background-color:#dbdfff>s</text></font>&nbsp;&nbsp;<font size='3'><text style=background-color:#dcdfff>exploits</text></font>&nbsp;&nbsp;<font size='3'><text style=background-color:#cfd4ff>borders</text></font>&nbsp;&nbsp;<font size='3'><text style=background-color:#bdc4ff>an</text></font>&nbsp;&nbsp;<font size='3'><text style=background-color:#bfc5ff>dalian</text></font>&nbsp;&nbsp;<font size='3'><text style=background-color:#cacfff>surreal</text></font>&nbsp;&nbsp;<font size='3'><text style=background-color:#d0d5ff>absurdity</text></font></td></tr><tr style=\"background-color:white\"><td style=\"text-align:left\"><font size='3'><text style=background-color:#ffb9b9>&nbsp;&nbsp;&nbsp;&nbsp;&nbsp;</text></font>&nbsp;&nbsp;<font size='3'><text style=background-color:#bcc3ff>morbius</text></font>&nbsp;&nbsp;<font size='3'><text style=background-color:#ccd1ff>warns</text></font>&nbsp;&nbsp;<font size='3'><text style=background-color:#cbd0ff>the</text></font>&nbsp;&nbsp;<font size='3'><text style=background-color:#cdd2ff>crew</text></font>&nbsp;&nbsp;<font size='3'><text style=background-color:#cacfff>of</text></font>&nbsp;&nbsp;<font size='3'><text style=background-color:#cacfff>a</text></font>&nbsp;&nbsp;<font size='3'><text style=background-color:#c5cbff>mysterious</text></font>&nbsp;&nbsp;<font size='3'><text style=background-color:#c1c7ff>force</text></font>&nbsp;&nbsp;<font size='3'><text style=background-color:#bbc1ff>that</text></font>&nbsp;&nbsp;<font size='3'><text style=background-color:#c9cfff>killed</text></font>&nbsp;&nbsp;<font size='3'><text style=background-color:#d1d5ff>the</text></font>&nbsp;&nbsp;<font size='3'><text style=background-color:#d1d5ff>bellerophon</text></font>&nbsp;&nbsp;<font size='3'><text style=background-color:#d7dbff>party</text></font>&nbsp;&nbsp;<font size='3'><text style=background-color:#daddff>in</text></font>&nbsp;&nbsp;<font size='3'><text style=background-color:#d9ddff>their</text></font>&nbsp;&nbsp;<font size='3'><text style=background-color:#d8dcff>first</text></font>&nbsp;&nbsp;<font size='3'><text style=background-color:#d7dbff>year</text></font>&nbsp;&nbsp;<font size='3'><text style=background-color:#cbd0ff>,</text></font>&nbsp;&nbsp;<font size='3'><text style=background-color:#aeb6ff>yet</text></font>&nbsp;&nbsp;<font size='3'><text style=background-color:#949eff>he</text></font>&nbsp;&nbsp;<font size='3'><text style=background-color:#7f8cff>was</text></font>&nbsp;&nbsp;<font size='3'><text style=background-color:#9fa8ff>immune</text></font>&nbsp;&nbsp;<font size='3'><text style=background-color:#c6cbff>to</text></font>&nbsp;&nbsp;<font size='3'><text style=background-color:#aeb6ff>it</text></font></td></tr></table>"
      ],
      "text/plain": [
       "<IPython.core.display.HTML object>"
      ]
     },
     "execution_count": 320,
     "metadata": {},
     "output_type": "execute_result"
    }
   ],
   "source": [
    " html_print(print_several(sents))"
   ]
  },
  {
   "cell_type": "markdown",
   "metadata": {},
   "source": [
    "## Plot attention weight distribution of words \"good\" and \"bad\" for both positive and negative reviews and compare them (6 points)"
   ]
  },
  {
   "cell_type": "code",
   "execution_count": 355,
   "metadata": {},
   "outputs": [
    {
     "name": "stdout",
     "output_type": "stream",
     "text": [
      "Reading model parameters from checkpoints/checkpoint-2400\n",
      "INFO:tensorflow:Restoring parameters from checkpoints/checkpoint-2400\n",
      "step 0\n",
      "step 100\n",
      "step 200\n",
      "step 300\n"
     ]
    },
    {
     "ename": "KeyboardInterrupt",
     "evalue": "",
     "output_type": "error",
     "traceback": [
      "\u001b[0;31m---------------------------------------------------------------------------\u001b[0m",
      "\u001b[0;31mKeyboardInterrupt\u001b[0m                         Traceback (most recent call last)",
      "\u001b[0;32m<ipython-input-355-fc58d5859825>\u001b[0m in \u001b[0;36m<module>\u001b[0;34m()\u001b[0m\n\u001b[1;32m     23\u001b[0m         sentence_attention_weights, word_attention_weights = s.run([model.sentence_attention_weights,  \n\u001b[1;32m     24\u001b[0m                                                                      model.word_attention_weights],\n\u001b[0;32m---> 25\u001b[0;31m                                                                     feed_dict=fd)\n\u001b[0m\u001b[1;32m     26\u001b[0m \u001b[0;34m\u001b[0m\u001b[0m\n\u001b[1;32m     27\u001b[0m         \u001b[0;32mfor\u001b[0m \u001b[0mi\u001b[0m \u001b[0;32min\u001b[0m \u001b[0mrange\u001b[0m\u001b[0;34m(\u001b[0m\u001b[0mlen\u001b[0m\u001b[0;34m(\u001b[0m\u001b[0msents_batch\u001b[0m\u001b[0;34m)\u001b[0m\u001b[0;34m)\u001b[0m\u001b[0;34m:\u001b[0m\u001b[0;34m\u001b[0m\u001b[0m\n",
      "\u001b[0;32m/opt/anaconda3/lib/python3.6/site-packages/tensorflow/python/client/session.py\u001b[0m in \u001b[0;36mrun\u001b[0;34m(self, fetches, feed_dict, options, run_metadata)\u001b[0m\n\u001b[1;32m    893\u001b[0m     \u001b[0;32mtry\u001b[0m\u001b[0;34m:\u001b[0m\u001b[0;34m\u001b[0m\u001b[0m\n\u001b[1;32m    894\u001b[0m       result = self._run(None, fetches, feed_dict, options_ptr,\n\u001b[0;32m--> 895\u001b[0;31m                          run_metadata_ptr)\n\u001b[0m\u001b[1;32m    896\u001b[0m       \u001b[0;32mif\u001b[0m \u001b[0mrun_metadata\u001b[0m\u001b[0;34m:\u001b[0m\u001b[0;34m\u001b[0m\u001b[0m\n\u001b[1;32m    897\u001b[0m         \u001b[0mproto_data\u001b[0m \u001b[0;34m=\u001b[0m \u001b[0mtf_session\u001b[0m\u001b[0;34m.\u001b[0m\u001b[0mTF_GetBuffer\u001b[0m\u001b[0;34m(\u001b[0m\u001b[0mrun_metadata_ptr\u001b[0m\u001b[0;34m)\u001b[0m\u001b[0;34m\u001b[0m\u001b[0m\n",
      "\u001b[0;32m/opt/anaconda3/lib/python3.6/site-packages/tensorflow/python/client/session.py\u001b[0m in \u001b[0;36m_run\u001b[0;34m(self, handle, fetches, feed_dict, options, run_metadata)\u001b[0m\n\u001b[1;32m   1122\u001b[0m     \u001b[0;32mif\u001b[0m \u001b[0mfinal_fetches\u001b[0m \u001b[0;32mor\u001b[0m \u001b[0mfinal_targets\u001b[0m \u001b[0;32mor\u001b[0m \u001b[0;34m(\u001b[0m\u001b[0mhandle\u001b[0m \u001b[0;32mand\u001b[0m \u001b[0mfeed_dict_tensor\u001b[0m\u001b[0;34m)\u001b[0m\u001b[0;34m:\u001b[0m\u001b[0;34m\u001b[0m\u001b[0m\n\u001b[1;32m   1123\u001b[0m       results = self._do_run(handle, final_targets, final_fetches,\n\u001b[0;32m-> 1124\u001b[0;31m                              feed_dict_tensor, options, run_metadata)\n\u001b[0m\u001b[1;32m   1125\u001b[0m     \u001b[0;32melse\u001b[0m\u001b[0;34m:\u001b[0m\u001b[0;34m\u001b[0m\u001b[0m\n\u001b[1;32m   1126\u001b[0m       \u001b[0mresults\u001b[0m \u001b[0;34m=\u001b[0m \u001b[0;34m[\u001b[0m\u001b[0;34m]\u001b[0m\u001b[0;34m\u001b[0m\u001b[0m\n",
      "\u001b[0;32m/opt/anaconda3/lib/python3.6/site-packages/tensorflow/python/client/session.py\u001b[0m in \u001b[0;36m_do_run\u001b[0;34m(self, handle, target_list, fetch_list, feed_dict, options, run_metadata)\u001b[0m\n\u001b[1;32m   1319\u001b[0m     \u001b[0;32mif\u001b[0m \u001b[0mhandle\u001b[0m \u001b[0;32mis\u001b[0m \u001b[0;32mNone\u001b[0m\u001b[0;34m:\u001b[0m\u001b[0;34m\u001b[0m\u001b[0m\n\u001b[1;32m   1320\u001b[0m       return self._do_call(_run_fn, self._session, feeds, fetches, targets,\n\u001b[0;32m-> 1321\u001b[0;31m                            options, run_metadata)\n\u001b[0m\u001b[1;32m   1322\u001b[0m     \u001b[0;32melse\u001b[0m\u001b[0;34m:\u001b[0m\u001b[0;34m\u001b[0m\u001b[0m\n\u001b[1;32m   1323\u001b[0m       \u001b[0;32mreturn\u001b[0m \u001b[0mself\u001b[0m\u001b[0;34m.\u001b[0m\u001b[0m_do_call\u001b[0m\u001b[0;34m(\u001b[0m\u001b[0m_prun_fn\u001b[0m\u001b[0;34m,\u001b[0m \u001b[0mself\u001b[0m\u001b[0;34m.\u001b[0m\u001b[0m_session\u001b[0m\u001b[0;34m,\u001b[0m \u001b[0mhandle\u001b[0m\u001b[0;34m,\u001b[0m \u001b[0mfeeds\u001b[0m\u001b[0;34m,\u001b[0m \u001b[0mfetches\u001b[0m\u001b[0;34m)\u001b[0m\u001b[0;34m\u001b[0m\u001b[0m\n",
      "\u001b[0;32m/opt/anaconda3/lib/python3.6/site-packages/tensorflow/python/client/session.py\u001b[0m in \u001b[0;36m_do_call\u001b[0;34m(self, fn, *args)\u001b[0m\n\u001b[1;32m   1325\u001b[0m   \u001b[0;32mdef\u001b[0m \u001b[0m_do_call\u001b[0m\u001b[0;34m(\u001b[0m\u001b[0mself\u001b[0m\u001b[0;34m,\u001b[0m \u001b[0mfn\u001b[0m\u001b[0;34m,\u001b[0m \u001b[0;34m*\u001b[0m\u001b[0margs\u001b[0m\u001b[0;34m)\u001b[0m\u001b[0;34m:\u001b[0m\u001b[0;34m\u001b[0m\u001b[0m\n\u001b[1;32m   1326\u001b[0m     \u001b[0;32mtry\u001b[0m\u001b[0;34m:\u001b[0m\u001b[0;34m\u001b[0m\u001b[0m\n\u001b[0;32m-> 1327\u001b[0;31m       \u001b[0;32mreturn\u001b[0m \u001b[0mfn\u001b[0m\u001b[0;34m(\u001b[0m\u001b[0;34m*\u001b[0m\u001b[0margs\u001b[0m\u001b[0;34m)\u001b[0m\u001b[0;34m\u001b[0m\u001b[0m\n\u001b[0m\u001b[1;32m   1328\u001b[0m     \u001b[0;32mexcept\u001b[0m \u001b[0merrors\u001b[0m\u001b[0;34m.\u001b[0m\u001b[0mOpError\u001b[0m \u001b[0;32mas\u001b[0m \u001b[0me\u001b[0m\u001b[0;34m:\u001b[0m\u001b[0;34m\u001b[0m\u001b[0m\n\u001b[1;32m   1329\u001b[0m       \u001b[0mmessage\u001b[0m \u001b[0;34m=\u001b[0m \u001b[0mcompat\u001b[0m\u001b[0;34m.\u001b[0m\u001b[0mas_text\u001b[0m\u001b[0;34m(\u001b[0m\u001b[0me\u001b[0m\u001b[0;34m.\u001b[0m\u001b[0mmessage\u001b[0m\u001b[0;34m)\u001b[0m\u001b[0;34m\u001b[0m\u001b[0m\n",
      "\u001b[0;32m/opt/anaconda3/lib/python3.6/site-packages/tensorflow/python/client/session.py\u001b[0m in \u001b[0;36m_run_fn\u001b[0;34m(session, feed_dict, fetch_list, target_list, options, run_metadata)\u001b[0m\n\u001b[1;32m   1304\u001b[0m           return tf_session.TF_Run(session, options,\n\u001b[1;32m   1305\u001b[0m                                    \u001b[0mfeed_dict\u001b[0m\u001b[0;34m,\u001b[0m \u001b[0mfetch_list\u001b[0m\u001b[0;34m,\u001b[0m \u001b[0mtarget_list\u001b[0m\u001b[0;34m,\u001b[0m\u001b[0;34m\u001b[0m\u001b[0m\n\u001b[0;32m-> 1306\u001b[0;31m                                    status, run_metadata)\n\u001b[0m\u001b[1;32m   1307\u001b[0m \u001b[0;34m\u001b[0m\u001b[0m\n\u001b[1;32m   1308\u001b[0m     \u001b[0;32mdef\u001b[0m \u001b[0m_prun_fn\u001b[0m\u001b[0;34m(\u001b[0m\u001b[0msession\u001b[0m\u001b[0;34m,\u001b[0m \u001b[0mhandle\u001b[0m\u001b[0;34m,\u001b[0m \u001b[0mfeed_dict\u001b[0m\u001b[0;34m,\u001b[0m \u001b[0mfetch_list\u001b[0m\u001b[0;34m)\u001b[0m\u001b[0;34m:\u001b[0m\u001b[0;34m\u001b[0m\u001b[0m\n",
      "\u001b[0;31mKeyboardInterrupt\u001b[0m: "
     ]
    }
   ],
   "source": [
    "w = {\"good\": {0: [], 1: []}, \"bad\": {0: [], 1: []}}\n",
    "\n",
    "tf.reset_default_graph()\n",
    "config = tf.ConfigProto(allow_soft_placement=True, gpu_options=gpu_options)\n",
    "\n",
    "with tf.Session(config=config) as s:\n",
    "    model, saver = HAN_model_1(s)\n",
    "\n",
    "    for iter_num, (data, labels_batch, sent_per_doc, words_per_sent_per_doc, sents_batch) in enumerate(batches_split):\n",
    "\n",
    "        if iter_num % 100 == 0:\n",
    "            print(\"step\", iter_num)\n",
    "        \n",
    "        fd = {\n",
    "            model.is_training: False,\n",
    "            model.inputs_embedded: data,\n",
    "            model.word_lengths: words_per_sent_per_doc,\n",
    "            model.sentence_lengths: sent_per_doc,\n",
    "            model.labels: labels_batch,\n",
    "            model.sample_weights: np.ones(shape=(10))\n",
    "        }\n",
    "\n",
    "        sentence_attention_weights, word_attention_weights = s.run([model.sentence_attention_weights,  \n",
    "                                                                     model.word_attention_weights],\n",
    "                                                                    feed_dict=fd)\n",
    "        \n",
    "        for i in range(len(sents_batch)):\n",
    "            ans = labels_batch[i]\n",
    "            for j in range(len(sents_batch[i])):\n",
    "                for k in range(len(sents_batch[i][j])):\n",
    "                    word = sents_batch[i][j][k]\n",
    "                    if word == 'good' or word == 'bad':\n",
    "                        cur_w = word_attention_weights[i * sentence_attention_weights.shape[1]][k].tolist()\n",
    "                        w[word][ans].append(cur_w[0])\n",
    "                        \n",
    "        #print(w)\n",
    "        max_num = 1000\n",
    "        if (len(w[\"good\"][0]) >= max_num and len(w[\"bad\"][0]) >= max_num \\\n",
    "        and len(w[\"good\"][1]) >= max_num and len(w[\"bad\"][1]) >= max_num) or iter_num == 1000:\n",
    "            break"
   ]
  },
  {
   "cell_type": "code",
   "execution_count": null,
   "metadata": {
    "collapsed": true
   },
   "outputs": [],
   "source": [
    "import matplotlib.pyplot as plt\n",
    "import seaborn as sns\n",
    "sns.set(color_codes=True)\n",
    "import warnings; warnings.simplefilter('ignore')"
   ]
  },
  {
   "cell_type": "code",
   "execution_count": null,
   "metadata": {},
   "outputs": [],
   "source": [
    "fig, ax = plt.subplots(figsize=(15,15), ncols=2, nrows=2, sharex=True, sharey=True)\n",
    "\n",
    "sns.distplot(w[\"good\"][0], bins=30, kde=False, rug=True, ax=ax[0][0]).set_title('\"Good\" in negatives');\n",
    "sns.distplot(w[\"good\"][1], bins=30, kde=False, rug=True, ax=ax[0][1]).set_title('\"Good\" in positives');\n",
    "sns.distplot(w[\"bad\"][0], bins=30, kde=False, rug=True, ax=ax[1][0]).set_title('\"Bad\" in negatives');\n",
    "sns.distplot(w[\"bad\"][1], bins=30, kde=False, rug=True, ax=ax[1][1]).set_title('\"Bad\" in positives');"
   ]
  },
  {
   "cell_type": "markdown",
   "metadata": {},
   "source": [
    "## Compare accuracy for HAN with plain rnn-based model and singe-word-attention model (4 points)"
   ]
  },
  {
   "cell_type": "code",
   "execution_count": null,
   "metadata": {
    "collapsed": true
   },
   "outputs": [],
   "source": []
  }
 ],
 "metadata": {
  "kernelspec": {
   "display_name": "Python 3",
   "language": "python",
   "name": "python3"
  },
  "language_info": {
   "codemirror_mode": {
    "name": "ipython",
    "version": 3
   },
   "file_extension": ".py",
   "mimetype": "text/x-python",
   "name": "python",
   "nbconvert_exporter": "python",
   "pygments_lexer": "ipython3",
   "version": "3.6.1"
  }
 },
 "nbformat": 4,
 "nbformat_minor": 2
}
