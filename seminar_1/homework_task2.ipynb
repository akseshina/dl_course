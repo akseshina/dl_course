{
 "cells": [
  {
   "cell_type": "code",
   "execution_count": 1,
   "metadata": {
    "collapsed": true
   },
   "outputs": [],
   "source": [
    "import os\n",
    "import numpy as np\n",
    "import tensorflow as tf\n",
    "from tensorflow.examples.tutorials.mnist import input_data\n",
    "import time"
   ]
  },
  {
   "cell_type": "code",
   "execution_count": 2,
   "metadata": {
    "collapsed": true
   },
   "outputs": [],
   "source": [
    "# Define paramaters for the model\n",
    "learning_rate = 0.01\n",
    "batch_size = 128\n",
    "n_epochs = 40"
   ]
  },
  {
   "cell_type": "markdown",
   "metadata": {},
   "source": [
    "Step 1: Read in data<br>\n",
    "using TF Learn's built in function to load MNIST data to the folder data/mnist"
   ]
  },
  {
   "cell_type": "code",
   "execution_count": 3,
   "metadata": {},
   "outputs": [
    {
     "name": "stdout",
     "output_type": "stream",
     "text": [
      "Extracting ../data/mnist/train-images-idx3-ubyte.gz\n",
      "Extracting ../data/mnist/train-labels-idx1-ubyte.gz\n",
      "Extracting ../data/mnist/t10k-images-idx3-ubyte.gz\n",
      "Extracting ../data/mnist/t10k-labels-idx1-ubyte.gz\n"
     ]
    }
   ],
   "source": [
    "mnist = input_data.read_data_sets('../data/mnist', one_hot=True) "
   ]
  },
  {
   "cell_type": "markdown",
   "metadata": {},
   "source": [
    "Step 2: create placeholders for features and labels<br>\n",
    "each image in the MNIST data is of shape 28*28 = 784<br>\n",
    "therefore, each image is represented with a 1x784 tensor<br>\n",
    "there are 10 classes for each image, corresponding to digits 0 - 9.<br>\n",
    "Features are of the type float, and labels are of the type int<br>"
   ]
  },
  {
   "cell_type": "code",
   "execution_count": 4,
   "metadata": {
    "collapsed": true
   },
   "outputs": [],
   "source": [
    "X = tf.placeholder(tf.float32, shape=[None, 784], name='features')\n",
    "Y = tf.placeholder(tf.int32, shape=[None, 10], name='labels')"
   ]
  },
  {
   "cell_type": "markdown",
   "metadata": {},
   "source": [
    "Step 3: create weights and bias<br>\n",
    "weights and biases are initialized to 0<br>\n",
    "shape of w depends on the dimension of X and Y so that Y = X * w + b<br>\n",
    "shape of b depends on Y<br>"
   ]
  },
  {
   "cell_type": "code",
   "execution_count": 5,
   "metadata": {
    "collapsed": true
   },
   "outputs": [],
   "source": [
    "W = tf.Variable(tf.zeros([784, 10]), name='weights')\n",
    "b = tf.Variable(tf.zeros([10]), name='bias')"
   ]
  },
  {
   "cell_type": "markdown",
   "metadata": {},
   "source": [
    "Step 4: build model<br>\n",
    "the model that returns the logits.<br>\n",
    "this logits will be later passed through softmax layer<br>\n",
    "to get the probability distribution of possible label of the image<br>\n",
    "DO NOT DO SOFTMAX HERE<br>"
   ]
  },
  {
   "cell_type": "code",
   "execution_count": 6,
   "metadata": {
    "collapsed": true
   },
   "outputs": [],
   "source": [
    "logits = tf.matmul(X, W) + b"
   ]
  },
  {
   "cell_type": "markdown",
   "metadata": {},
   "source": [
    "Step 5: define loss function<br>\n",
    "use cross entropy loss of the real labels with the softmax of logits<br>\n",
    "use the method:<br>\n",
    "tf.nn.softmax_cross_entropy_with_logits(logits, Y)<br>\n",
    "then use tf.reduce_mean to get the mean loss of the batch<br>"
   ]
  },
  {
   "cell_type": "code",
   "execution_count": 7,
   "metadata": {
    "collapsed": true
   },
   "outputs": [],
   "source": [
    "loss_func = tf.reduce_mean(\n",
    "    tf.nn.softmax_cross_entropy_with_logits(labels=Y, logits=logits), name=\"loss\")"
   ]
  },
  {
   "cell_type": "markdown",
   "metadata": {},
   "source": [
    "Step 6: define training op<br>\n",
    "using gradient descent to minimize loss"
   ]
  },
  {
   "cell_type": "code",
   "execution_count": 8,
   "metadata": {},
   "outputs": [
    {
     "name": "stdout",
     "output_type": "stream",
     "text": [
      "Average loss epoch 0: 1.2882110213899947\n",
      "Average loss epoch 1: 0.7328066400714688\n",
      "Average loss epoch 2: 0.6006202877679349\n",
      "Average loss epoch 3: 0.536202555769807\n",
      "Average loss epoch 4: 0.4982368903004484\n",
      "Average loss epoch 5: 0.4710763553222576\n",
      "Average loss epoch 6: 0.4505740274221469\n",
      "Average loss epoch 7: 0.43710910926609886\n",
      "Average loss epoch 8: 0.42283396127618555\n",
      "Average loss epoch 9: 0.412501236219784\n",
      "Average loss epoch 10: 0.4046692543930107\n",
      "Average loss epoch 11: 0.3974340678928615\n",
      "Average loss epoch 12: 0.3900773207416068\n",
      "Average loss epoch 13: 0.38467453145758534\n",
      "Average loss epoch 14: 0.3790666154631368\n",
      "Average loss epoch 15: 0.3750903131592246\n",
      "Average loss epoch 16: 0.3697237441520313\n",
      "Average loss epoch 17: 0.3659326490405556\n",
      "Average loss epoch 18: 0.3638986906944177\n",
      "Average loss epoch 19: 0.35999457944523205\n",
      "Average loss epoch 20: 0.35540290576316813\n",
      "Average loss epoch 21: 0.3540274834994114\n",
      "Average loss epoch 22: 0.35177521327714545\n",
      "Average loss epoch 23: 0.3487731095724728\n",
      "Average loss epoch 24: 0.34598777048932366\n",
      "Average loss epoch 25: 0.34475264873676925\n",
      "Average loss epoch 26: 0.34249747000929914\n",
      "Average loss epoch 27: 0.33968463501869106\n",
      "Average loss epoch 28: 0.3389067274012488\n",
      "Average loss epoch 29: 0.3357210760211055\n",
      "Average loss epoch 30: 0.3365112953669541\n",
      "Average loss epoch 31: 0.3317439413709796\n",
      "Average loss epoch 32: 0.33296743747376617\n",
      "Average loss epoch 33: 0.33020946036129845\n",
      "Average loss epoch 34: 0.3296469686887203\n",
      "Average loss epoch 35: 0.32650633416809405\n",
      "Average loss epoch 36: 0.32747466254345464\n",
      "Average loss epoch 37: 0.32562732119938154\n",
      "Average loss epoch 38: 0.3245558879383794\n",
      "Average loss epoch 39: 0.3231874586263181\n",
      "Total time: 55.77837538719177 seconds\n",
      "Optimization Finished!\n",
      "Accuracy 0.9144\n"
     ]
    }
   ],
   "source": [
    "optimizer = tf.train.GradientDescentOptimizer(learning_rate).minimize(loss_func)\n",
    "\n",
    "with tf.Session() as sess:\n",
    "    start_time = time.time()\n",
    "    sess.run(tf.global_variables_initializer())\t\n",
    "    n_batches = int(mnist.train.num_examples/batch_size)\n",
    "    for i in range(n_epochs): # train the model n_epochs times\n",
    "        total_loss = 0\n",
    "\n",
    "        for _ in range(n_batches):\n",
    "            X_batch, Y_batch = mnist.train.next_batch(batch_size)\n",
    "\n",
    "            # run optimizer + fetch loss_batch\n",
    "            _, loss_batch = sess.run([optimizer, loss_func], feed_dict={X:X_batch, Y:Y_batch})\n",
    "\n",
    "            total_loss += loss_batch\n",
    "        print('Average loss epoch {0}: {1}'.format(i, total_loss/n_batches))\n",
    "\n",
    "    print('Total time: {0} seconds'.format(time.time() - start_time))\n",
    "\n",
    "    print('Optimization Finished!') # should be around 0.35 after 25 epochs\n",
    "\n",
    "    # test the model\n",
    "    preds = tf.nn.softmax(logits)\n",
    "    correct_preds = tf.equal(tf.argmax(preds, 1), tf.argmax(Y, 1))\n",
    "    accuracy = tf.reduce_sum(tf.cast(correct_preds, tf.float32)) # need numpy.count_nonzero(boolarr) :(\n",
    "\n",
    "    n_batches = int(mnist.test.num_examples/batch_size)\n",
    "    total_correct_preds = 0\n",
    "\n",
    "    for i in range(n_batches):\n",
    "        X_batch, Y_batch = mnist.test.next_batch(batch_size)\n",
    "        accuracy_batch = sess.run([accuracy], feed_dict={X: X_batch, Y:Y_batch})[0]\n",
    "        total_correct_preds += accuracy_batch\n",
    "\n",
    "    print('Accuracy {0}'.format(total_correct_preds/mnist.test.num_examples))"
   ]
  },
  {
   "cell_type": "code",
   "execution_count": null,
   "metadata": {
    "collapsed": true
   },
   "outputs": [],
   "source": []
  }
 ],
 "metadata": {
  "kernelspec": {
   "display_name": "Python 3",
   "language": "python",
   "name": "python3"
  },
  "language_info": {
   "codemirror_mode": {
    "name": "ipython",
    "version": 3
   },
   "file_extension": ".py",
   "mimetype": "text/x-python",
   "name": "python",
   "nbconvert_exporter": "python",
   "pygments_lexer": "ipython3",
   "version": "3.5.2"
  }
 },
 "nbformat": 4,
 "nbformat_minor": 2
}
